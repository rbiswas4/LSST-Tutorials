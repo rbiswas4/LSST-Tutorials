{
 "cells": [
  {
   "cell_type": "markdown",
   "metadata": {},
   "source": [
    "This is a tutorial to explain how to use some of the \"new\" MAF interface via python. "
   ]
  },
  {
   "cell_type": "markdown",
   "metadata": {},
   "source": [
    "Using MAF within python can be simpler than using the full driver script + configuration files in the case of a user who wants to use a few metrics or a few sql constraints. I'll try to show the advantages and limitations here, but will mostly focus on the use case example of: <br>\n",
    "\"I am an opsim user who wants to understand the distribution of sky position angles (rotSkyPos in the opsim output tables) in an opsim run\" "
   ]
  },
  {
   "cell_type": "markdown",
   "metadata": {},
   "source": [
    "I will assume the user has sims_maf installed (see [installation instructions](https://confluence.lsstcorp.org/display/SIM/Catalogs+and+MAF)) and setup (see [setup instructions](https://confluence.lsstcorp.org/display/SIM/MAF+Installation+and+Initial+Examples#MAFInstallationandInitialExamples-runningexamples)).  Let's load all of the MAF modules we'll need. "
   ]
  },
  {
   "cell_type": "code",
   "execution_count": 1,
   "metadata": {
    "collapsed": true
   },
   "outputs": [],
   "source": [
    "import matplotlib.pyplot as plt\n",
    "%matplotlib inline\n",
    "\n",
    "import lsst.sims.maf.slicers as slicers\n",
    "import lsst.sims.maf.metrics as metrics\n",
    "import lsst.sims.maf.sliceMetrics as sliceMetrics\n",
    "from lsst.sims.maf.db import OpsimDatabase\n",
    "from lsst.sims.maf.utils import opsimUtils"
   ]
  },
  {
   "cell_type": "markdown",
   "metadata": {},
   "source": [
    "---\n",
    "The first thing that is required is to break down the question of \"understand the distribution of rotSkyPos in opsim\" into more specific chunks. What do we want to measure, and over what subset of visits do we want to calculate those measurements? In MAF these map to specific \"[metrics](https://confluence.lsstcorp.org/display/SIM/MAF+Metrics)\" (how to calculate what we want to measure) and \"[slicers](https://confluence.lsstcorp.org/display/SIM/MAF+Slicers)\" (how to subdivide the opsim visits)."
   ]
  },
  {
   "cell_type": "markdown",
   "metadata": {},
   "source": [
    "Let's first address what subset of visits (or subset of the opsim data) we want to use in our measurements. We probably want to look at 'the distribution of rotSkyPos' at a set of RA/Dec points across the sky. That means we can either use a HealpixSlicer (healpix grid of ra/dec points) or an OpsimFieldSlicer (ra/dec points corresponding to the centers of opsim fields). \n",
    "\n",
    "In this case, I could see using either one .. but let's use a HealpixSlicer, under the assumption that resolution matters and 'rotSkyPos' makes sense to evaluate even beyond the center of each field."
   ]
  },
  {
   "cell_type": "code",
   "execution_count": 13,
   "metadata": {
    "collapsed": false
   },
   "outputs": [
    {
     "name": "stdout",
     "output_type": "stream",
     "text": [
      "Healpix slicer using NSIDE=64, approximate resolution 54.967783 arcminutes\n"
     ]
    }
   ],
   "source": [
    "slicer = slicers.HealpixSlicer(nside=64)"
   ]
  },
  {
   "cell_type": "markdown",
   "metadata": {},
   "source": [
    "And now let's think about what we want to measure about the rotSkyPos values at each opsim pointing. Let's start with the mean, rms and full range (max-min).  I'll create these as a list just to make it easier to cart around later. "
   ]
  },
  {
   "cell_type": "code",
   "execution_count": 14,
   "metadata": {
    "collapsed": false
   },
   "outputs": [],
   "source": [
    "metriclist = []\n",
    "metriclist.append(metrics.MeanMetric('rotSkyPos'))\n",
    "metriclist.append(metrics.RmsMetric('rotSkyPos'))\n",
    "metriclist.append(metrics.FullRangeMetric('rotSkyPos'))"
   ]
  },
  {
   "cell_type": "markdown",
   "metadata": {},
   "source": [
    "We use these to get a \"RunSliceMetric\" set up. A RunSliceMetric object combines a slicer and metrics, and provides convenience methods to calculate, store, save and visualize the metric data. "
   ]
  },
  {
   "cell_type": "code",
   "execution_count": 15,
   "metadata": {
    "collapsed": true
   },
   "outputs": [],
   "source": [
    "outDir = 'rotSkyPos_Test'\n",
    "sm = sliceMetrics.RunSliceMetric(outDir=outDir)\n",
    "sm.setMetricsSlicerStackers(metriclist, slicer)"
   ]
  },
  {
   "cell_type": "markdown",
   "metadata": {},
   "source": [
    "Okay, so let's connect to an opsim sqlite database and get some data! (some opsim databases are available [here](https://confluence.lsstcorp.org/display/SIM/OpSim+Datasets+for+Cadence+Workshop+LSST2015))"
   ]
  },
  {
   "cell_type": "code",
   "execution_count": 16,
   "metadata": {
    "collapsed": false
   },
   "outputs": [],
   "source": [
    "runName = 'enigma_1189'\n",
    "opsdb = OpsimDatabase('sqlite:///' + runName + '_sqlite.db')"
   ]
  },
  {
   "cell_type": "markdown",
   "metadata": {},
   "source": [
    "MAF provides convenience methods + built-in framework utilities to identify what data you need from the database (and what could be added 'on-the-fly' using [stackers](https://confluence.lsstcorp.org/display/SIM/MAF+Stackers)).  We'll now use one of those to easily get a list of the columns we'd need from the database (Hint: these columns are 'rotSkyPos', obviously, and 'fieldRA', 'fieldDec' so that the slicer can work and create plots). \n",
    "\n",
    "Note that if stackers are necessary for a particular column required anywhere (e.g. if you were calculating MeanMetric on HA, which is not a standard part of the opsim output table), they will automatically be added to the RunSliceMetric. However, users can configure stackers and add them manually, if desired."
   ]
  },
  {
   "cell_type": "code",
   "execution_count": 17,
   "metadata": {
    "collapsed": false
   },
   "outputs": [
    {
     "name": "stdout",
     "output_type": "stream",
     "text": [
      "set(['fieldDec', 'fieldRA', 'rotSkyPos'])\n"
     ]
    }
   ],
   "source": [
    "dbcols  =sm.findDataCols()\n",
    "print dbcols"
   ]
  },
  {
   "cell_type": "markdown",
   "metadata": {},
   "source": [
    "Let's get the actual opsim data. We'll just look at r band visits. "
   ]
  },
  {
   "cell_type": "code",
   "execution_count": 18,
   "metadata": {
    "collapsed": false
   },
   "outputs": [
    {
     "name": "stdout",
     "output_type": "stream",
     "text": [
      "('obsHistID', 'fieldDec', 'fieldRA', 'rotSkyPos')\n"
     ]
    }
   ],
   "source": [
    "sqlconstraint = '%s' %(\"filter = 'r'\")\n",
    "simdata = opsimUtils.getSimData(opsdb, sqlconstraint, dbcols, sm.stackerObjs)\n",
    "print simdata.dtype.names"
   ]
  },
  {
   "cell_type": "markdown",
   "metadata": {},
   "source": [
    "And calculate the metric data. "
   ]
  },
  {
   "cell_type": "code",
   "execution_count": 19,
   "metadata": {
    "collapsed": false
   },
   "outputs": [],
   "source": [
    "sm.runSlices(simdata, simDataName=runName, sqlconstraint=sqlconstraint)"
   ]
  },
  {
   "cell_type": "markdown",
   "metadata": {},
   "source": [
    "Let's save it to disk (we can read this back later). "
   ]
  },
  {
   "cell_type": "code",
   "execution_count": 20,
   "metadata": {
    "collapsed": true
   },
   "outputs": [],
   "source": [
    "sm.writeAll()"
   ]
  },
  {
   "cell_type": "code",
   "execution_count": null,
   "metadata": {
    "collapsed": true
   },
   "outputs": [],
   "source": []
  }
 ],
 "metadata": {
  "kernelspec": {
   "display_name": "Python 2",
   "language": "python",
   "name": "python2"
  },
  "language_info": {
   "codemirror_mode": {
    "name": "ipython",
    "version": 2
   },
   "file_extension": ".py",
   "mimetype": "text/x-python",
   "name": "python",
   "nbconvert_exporter": "python",
   "pygments_lexer": "ipython2",
   "version": "2.7.9"
  }
 },
 "nbformat": 4,
 "nbformat_minor": 0
}
