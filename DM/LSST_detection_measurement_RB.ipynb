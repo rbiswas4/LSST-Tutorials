{
 "metadata": {
  "name": "",
  "signature": "sha256:2bcb924445453e694f6f597f562d1f58f7c29d3816af00b50e48302ed02295bc"
 },
 "nbformat": 3,
 "nbformat_minor": 0,
 "worksheets": [
  {
   "cells": [
    {
     "cell_type": "heading",
     "level": 1,
     "metadata": {},
     "source": [
      "An introduction to detection and measurement using the LSST stack"
     ]
    },
    {
     "cell_type": "markdown",
     "metadata": {},
     "source": [
      "This notebook outlines in detail how to perform photometry on astronomical images.  We will assume that the images have already been calibrated, in the sense that the instrument signatures have been removed.  The goal is to measure the brightness of each source within the image, and demonstrate how to undertake optimal point-source photometry by building and using a point spread function for the image.\n",
      "\n",
      "The first part takes a detailed look at the internals of the process using the LSST Data Management software stack.  Instructions for installing and testing the stack can be found <a href=\"https://confluence.lsstcorp.org/display/LSWUG/Getting+Started+with+the+LSST+Software+Stack\">here</a>. "
     ]
    },
    {
     "cell_type": "markdown",
     "metadata": {},
     "source": [
      "To run this notebook, follow the instructions to install and initialize the LSST stack.  Then, setup pipe_tasks and run the notebook.\n",
      "```\n",
      "$> setup pipe_tasks\n",
      "$> cd [notebook location]\n",
      "$> ipython notebook\n",
      "```"
     ]
    },
    {
     "cell_type": "markdown",
     "metadata": {},
     "source": [
      "Next up, download an image from DECam.  The NOAO Science Archive makes available images calibrated using the DECam community pipeline.  You can get access to images using the <a href=\"http://www.portal-nvo.noao.edu/adql/query\">query portal</a> (note: if you use the query portal, never hit the BACK button.  It will only bring you sadness.).\n",
      "\n",
      "I used a query like this (note that there are several requirements on the query syntax, including a required limit of <=10000):\n",
      "```\n",
      "SELECT reference, date_obs, ra, dec, filter, exposure, release_date, proctype, prodtype, dtpropid, reference AS archive_file, filesize, start_date, md5sum FROM voi.siap WHERE (release_date <= '2015-04-03' AND (proctype = 'InstCal') AND (prodtype = 'image' AND filter like 'g%')) AND (dtpropid ILIKE '%DES%' OR surveyid ILIKE '%DES%') ORDER BY date_obs ASC limit 10000\n",
      "```\n",
      "\n",
      "I cannot figure out how to get a URL to the images to use curl with, but you can click on the retrieve button in the resulting page.  I got the image called c4d_130830_040651_ooi_g_d1.fits.fz."
     ]
    },
    {
     "cell_type": "markdown",
     "metadata": {},
     "source": [
      "For the next several cells, we outline the process of building up a photometric pipeline from a series of Python commands.  In the real world, these code blocks would exist in a single script that you would call on the command line (e.g. like SExtractor).  However, for the purposes of this tutorial we break this script down into distinct logical units.\n",
      "\n",
      "We first import all the important functionality that we will need, most of it from LSST (and visible to Python when you \"set up\" the package):"
     ]
    },
    {
     "cell_type": "code",
     "collapsed": false,
     "input": [
      "%matplotlib inline\n",
      "\n",
      "import lsst.afw.detection as afwDetection\n",
      "import lsst.afw.image as afwImage\n",
      "import lsst.afw.math as afwMath\n",
      "import lsst.afw.table as afwTable\n",
      "import lsst.afw.display.ds9 as ds9\n",
      "import lsst.afw.display.utils as displayUtils"
     ],
     "language": "python",
     "metadata": {},
     "outputs": [],
     "prompt_number": 1
    },
    {
     "cell_type": "code",
     "collapsed": false,
     "input": [
      "# Added by RB\n",
      "import numpy as np\n",
      "from astropy.io import fits\n",
      "import matplotlib.pyplot as plt"
     ],
     "language": "python",
     "metadata": {},
     "outputs": [],
     "prompt_number": 2
    },
    {
     "cell_type": "code",
     "collapsed": false,
     "input": [
      "# Get the image that is being used\n",
      "selected_image_hdulist = fits.open('c4d_130830_040651_ooi_g_d1.fits.fz')\n",
      "print selected_image_hdulist.info()"
     ],
     "language": "python",
     "metadata": {},
     "outputs": [
      {
       "output_type": "stream",
       "stream": "stdout",
       "text": [
        "Filename: c4d_130830_040651_ooi_g_d1.fits.fz\n",
        "No.    Name         Type      Cards   Dimensions   Format\n",
        "0    PRIMARY     PrimaryHDU     215   ()              \n",
        "1    S29         CompImageHDU    119   (2046, 4094)   float32   \n",
        "2    S30         CompImageHDU    119   (2046, 4094)   float32   \n",
        "3    S31         CompImageHDU    119   (2046, 4094)   float32   \n",
        "4    S25         CompImageHDU    119   (2046, 4094)   float32   \n",
        "5    S26         CompImageHDU    119   (2046, 4094)   float32   \n",
        "6    S27         CompImageHDU    119   (2046, 4094)   float32   \n",
        "7    S28         CompImageHDU    119   (2046, 4094)   float32   \n",
        "8    S20         CompImageHDU    119   (2046, 4094)   float32   \n",
        "9    S21         CompImageHDU    119   (2046, 4094)   float32   \n",
        "10   S22         CompImageHDU    119   (2046, 4094)   float32   \n",
        "11   S23         CompImageHDU    119   (2046, 4094)   float32   \n",
        "12   S24         CompImageHDU    119   (2046, 4094)   float32   \n",
        "13   S14         CompImageHDU    119   (2046, 4094)   float32   \n",
        "14   S15         CompImageHDU    119   (2046, 4094)   float32   \n",
        "15   S16         CompImageHDU    119   (2046, 4094)   float32   \n",
        "16   S17         CompImageHDU    119   (2046, 4094)   float32   \n",
        "17   S18         CompImageHDU    119   (2046, 4094)   float32   \n",
        "18   S19         CompImageHDU    119   (2046, 4094)   float32   \n",
        "19   S8          CompImageHDU    119   (2046, 4094)   float32   \n",
        "20   S9          CompImageHDU    119   (2046, 4094)   float32   \n",
        "21   S10         CompImageHDU    119   (2046, 4094)   float32   \n",
        "22   S11         CompImageHDU    119   (2046, 4094)   float32   \n",
        "23   S12         CompImageHDU    119   (2046, 4094)   float32   \n",
        "24   S13         CompImageHDU    119   (2046, 4094)   float32   \n",
        "25   S1          CompImageHDU    119   (2046, 4094)   float32   \n",
        "26   S2          CompImageHDU    119   (2046, 4094)   float32   \n",
        "27   S3          CompImageHDU    119   (2046, 4094)   float32   \n",
        "28   S4          CompImageHDU    117   (2046, 4094)   float32   \n",
        "29   S5          CompImageHDU    117   (2046, 4094)   float32   \n",
        "30   S6          CompImageHDU    117   (2046, 4094)   float32   \n",
        "31   N1          CompImageHDU    119   (2046, 4094)   float32   \n",
        "32   N2          CompImageHDU    119   (2046, 4094)   float32   \n",
        "33   N3          CompImageHDU    119   (2046, 4094)   float32   \n",
        "34   N4          CompImageHDU    117   (2046, 4094)   float32   \n",
        "35   N5          CompImageHDU    117   (2046, 4094)   float32   \n",
        "36   N6          CompImageHDU    117   (2046, 4094)   float32   \n",
        "37   N7          CompImageHDU    117   (2046, 4094)   float32   \n",
        "38   N8          CompImageHDU    119   (2046, 4094)   float32   \n",
        "39   N9          CompImageHDU    119   (2046, 4094)   float32   \n",
        "40   N10         CompImageHDU    119   (2046, 4094)   float32   \n",
        "41   N11         CompImageHDU    119   (2046, 4094)   float32   \n",
        "42   N12         CompImageHDU    119   (2046, 4094)   float32   \n",
        "43   N13         CompImageHDU    119   (2046, 4094)   float32   \n",
        "44   N14         CompImageHDU    119   (2046, 4094)   float32   \n",
        "45   N15         CompImageHDU    119   (2046, 4094)   float32   \n",
        "46   N16         CompImageHDU    119   (2046, 4094)   float32   \n",
        "47   N17         CompImageHDU    119   (2046, 4094)   float32   \n",
        "48   N18         CompImageHDU    119   (2046, 4094)   float32   \n",
        "49   N19         CompImageHDU    119   (2046, 4094)   float32   \n",
        "50   N20         CompImageHDU    119   (2046, 4094)   float32   \n",
        "51   N21         CompImageHDU    119   (2046, 4094)   float32   \n",
        "52   N22         CompImageHDU    119   (2046, 4094)   float32   \n",
        "53   N23         CompImageHDU    119   (2046, 4094)   float32   \n",
        "54   N24         CompImageHDU    119   (2046, 4094)   float32   \n",
        "55   N25         CompImageHDU    119   (2046, 4094)   float32   \n",
        "56   N26         CompImageHDU    119   (2046, 4094)   float32   \n",
        "57   N27         CompImageHDU    119   (2046, 4094)   float32   \n",
        "58   N28         CompImageHDU    119   (2046, 4094)   float32   \n",
        "59   N29         CompImageHDU    119   (2046, 4094)   float32   \n",
        "60   N31         CompImageHDU    119   (2046, 4094)   float32   \n"
       ]
      },
      {
       "output_type": "stream",
       "stream": "stdout",
       "text": [
        "None\n"
       ]
      }
     ],
     "prompt_number": 3
    },
    {
     "cell_type": "code",
     "collapsed": false,
     "input": [
      "# Want to go to the image indexed as 35\n",
      "selected_data = selected_image_hdulist"
     ],
     "language": "python",
     "metadata": {},
     "outputs": [],
     "prompt_number": 4
    },
    {
     "cell_type": "code",
     "collapsed": false,
     "input": [
      "selected_data[0].header.keys()"
     ],
     "language": "python",
     "metadata": {},
     "outputs": [
      {
       "metadata": {},
       "output_type": "pyout",
       "prompt_number": 7,
       "text": [
        "['SIMPLE',\n",
        " 'BITPIX',\n",
        " 'NAXIS',\n",
        " 'EXTEND',\n",
        " 'ORIGIN',\n",
        " 'OBJECT',\n",
        " 'DATE',\n",
        " 'IRAF-TLM',\n",
        " 'COMMENT',\n",
        " 'COMMENT',\n",
        " 'COMMENT',\n",
        " 'COMMENT',\n",
        " 'PROCTYPE',\n",
        " 'PRODTYPE',\n",
        " 'PIXSCAL1',\n",
        " 'PIXSCAL2',\n",
        " 'OBS-LONG',\n",
        " 'TELESCOP',\n",
        " 'OBSERVAT',\n",
        " 'OBS-LAT',\n",
        " 'OBS-ELEV',\n",
        " 'INSTRUME',\n",
        " 'EXPREQ',\n",
        " 'EXPTIME',\n",
        " 'DARKTIME',\n",
        " 'OBSID',\n",
        " 'DATE-OBS',\n",
        " 'TIME-OBS',\n",
        " 'MJD-OBS',\n",
        " 'OPENSHUT',\n",
        " 'TIMESYS',\n",
        " 'EXPNUM',\n",
        " 'OBSTYPE',\n",
        " 'CAMSHUT',\n",
        " 'PROGRAM',\n",
        " 'OBSERVER',\n",
        " 'PROPOSER',\n",
        " 'DTPI',\n",
        " 'PROPID',\n",
        " 'EXCLUDED',\n",
        " 'HEX',\n",
        " 'TILING',\n",
        " 'SEQID',\n",
        " 'SEQNUM',\n",
        " 'SEQTOT',\n",
        " 'AOS',\n",
        " 'BCAM',\n",
        " 'GUIDER',\n",
        " 'SKYSTAT',\n",
        " 'FILTER',\n",
        " 'FILTPOS',\n",
        " 'INSTANCE',\n",
        " 'ERRORS',\n",
        " 'TELEQUIN',\n",
        " 'TELSTAT',\n",
        " 'RA',\n",
        " 'DEC',\n",
        " 'TELRA',\n",
        " 'TELDEC',\n",
        " 'HA',\n",
        " 'ZD',\n",
        " 'AZ',\n",
        " 'TELFOCUS',\n",
        " 'VSUB',\n",
        " 'GSKYPHOT',\n",
        " 'LSKYPHOT',\n",
        " 'WINDSPD',\n",
        " 'WINDDIR',\n",
        " 'HUMIDITY',\n",
        " 'PRESSURE',\n",
        " 'DIMMSEE',\n",
        " 'OUTTEMP',\n",
        " 'AIRMASS',\n",
        " 'GSKYVAR',\n",
        " 'GSKYHOT',\n",
        " 'LSKYVAR',\n",
        " 'LSKYHOT',\n",
        " 'LSKYPOW',\n",
        " 'MSURTEMP',\n",
        " 'MAIRTEMP',\n",
        " 'UPTRTEMP',\n",
        " 'LWTRTEMP',\n",
        " 'PMOSTEMP',\n",
        " 'UTN-TEMP',\n",
        " 'UTS-TEMP',\n",
        " 'UTW-TEMP',\n",
        " 'UTE-TEMP',\n",
        " 'PMN-TEMP',\n",
        " 'PMS-TEMP',\n",
        " 'PMW-TEMP',\n",
        " 'PME-TEMP',\n",
        " 'DOMELOW',\n",
        " 'DOMEHIGH',\n",
        " 'DOMEFLOR',\n",
        " 'G-MEANX',\n",
        " 'G-MEANY',\n",
        " 'G-SEEING',\n",
        " 'BCAMDY',\n",
        " 'BCAMDX',\n",
        " 'G-FLXVAR',\n",
        " 'G-MEANXY',\n",
        " 'G-FEEDBK',\n",
        " 'G-CCDNUM',\n",
        " 'G-MAXX',\n",
        " 'G-MAXY',\n",
        " 'G-MODE',\n",
        " 'G-MEANY2',\n",
        " 'BCAMAZ',\n",
        " 'BCAMAX',\n",
        " 'BCAMAY',\n",
        " 'SKYUPDAT',\n",
        " 'NOTE',\n",
        " 'G-TRANSP',\n",
        " 'MULTIEXP',\n",
        " 'G-LATENC',\n",
        " 'LUTVER',\n",
        " 'G-MEANX2',\n",
        " 'SISPIVER',\n",
        " 'CONSTVER',\n",
        " 'HDRVER',\n",
        " 'DTSITE',\n",
        " 'DTTELESC',\n",
        " 'DTINSTRU',\n",
        " 'DTCALDAT',\n",
        " 'ODATEOBS',\n",
        " 'DTUTC',\n",
        " 'DTOBSERV',\n",
        " 'DTPROPID',\n",
        " 'DTPIAFFL',\n",
        " 'DTTITLE',\n",
        " 'DTCOPYRI',\n",
        " 'DTACQUIS',\n",
        " 'DTACCOUN',\n",
        " 'DTACQNAM',\n",
        " 'DTNSANAM',\n",
        " 'DTQUEUE',\n",
        " 'DTSTATUS',\n",
        " 'SB_HOST',\n",
        " 'SB_ACCOU',\n",
        " 'SB_SITE',\n",
        " 'SB_LOCAL',\n",
        " 'SB_DIR1',\n",
        " 'SB_DIR2',\n",
        " 'SB_DIR3',\n",
        " 'SB_RECNO',\n",
        " 'SB_ID',\n",
        " 'SB_NAME',\n",
        " 'RMCOUNT',\n",
        " 'RECNO',\n",
        " 'DETSIZE',\n",
        " 'DATASEC',\n",
        " 'CCDSEC',\n",
        " 'CCDBIN1',\n",
        " 'CCDBIN2',\n",
        " 'DHEINF',\n",
        " 'DHEFIRM',\n",
        " 'RADESYS',\n",
        " 'EQUINOX',\n",
        " 'VALIDA',\n",
        " 'VALIDB',\n",
        " 'NDONUTS',\n",
        " '',\n",
        " 'PHOTFLAG',\n",
        " 'XTALKFIL',\n",
        " 'FZALGOR',\n",
        " 'FZQMETHD',\n",
        " 'FZQVALUE',\n",
        " 'FZDTHRSD',\n",
        " 'HISTORY',\n",
        " 'HISTORY',\n",
        " 'HISTORY',\n",
        " 'HISTORY',\n",
        " 'HISTORY',\n",
        " 'HISTORY',\n",
        " 'HISTORY',\n",
        " 'HISTORY',\n",
        " 'HISTORY',\n",
        " 'HISTORY',\n",
        " 'HISTORY',\n",
        " 'HISTORY',\n",
        " 'HISTORY',\n",
        " 'EXTVER',\n",
        " 'SCAMPCHI',\n",
        " 'SCAMPFLG',\n",
        " 'SCAMPNUM',\n",
        " 'RADECSYS',\n",
        " 'HISTORY',\n",
        " 'HISTORY',\n",
        " 'HISTORY',\n",
        " 'HISTORY',\n",
        " 'DES_EXT',\n",
        " 'HISTORY',\n",
        " 'HISTORY',\n",
        " 'HISTORY',\n",
        " 'NEXTEND',\n",
        " 'FILENAME',\n",
        " 'SURVEYID',\n",
        " 'DESREL',\n",
        " 'PLVER',\n",
        " 'PLFNAME',\n",
        " 'PLDNAME',\n",
        " 'PLQUEUE',\n",
        " 'PLQNAME',\n",
        " 'PLPROCID',\n",
        " 'WCSCAL',\n",
        " 'MAGZERO',\n",
        " 'MAGZPT',\n",
        " 'PHOTREF',\n",
        " 'COMMENT',\n",
        " 'COMMENT',\n",
        " 'CHECKSUM',\n",
        " 'DATASUM',\n",
        " 'PLDSID',\n",
        " 'PLARVER',\n",
        " '']"
       ]
      }
     ],
     "prompt_number": 7
    },
    {
     "cell_type": "heading",
     "level": 2,
     "metadata": {},
     "source": [
      "Get the value of the selected image in different ways"
     ]
    },
    {
     "cell_type": "code",
     "collapsed": false,
     "input": [
      "selected_data = selected_data[35]\n",
      "print selected_data.data\n",
      "print type(selected_data.data)"
     ],
     "language": "python",
     "metadata": {},
     "outputs": [
      {
       "output_type": "stream",
       "stream": "stdout",
       "text": [
        "[[  92.71305847  101.7110672   100.89545441 ...,   88.60440826\n",
        "   102.03108978   90.26667023]\n",
        " [  82.93256378  101.55097198   84.50666809 ...,   87.37012482\n",
        "   107.86907196   85.24324799]\n",
        " [  82.19949341  108.16902161   88.21839142 ...,   90.42832184\n",
        "   104.96350861   80.25991821]\n",
        " ..., \n",
        " [  80.81633759   74.74933624   80.73838806 ...,   72.16046906\n",
        "    71.30683899   77.66051483]\n",
        " [  75.84840393   86.37703705   83.60525513 ...,   77.35205078\n",
        "    76.08287811   75.26010132]\n",
        " [  82.86421967   99.05469513   81.21351624 ...,   74.40961456\n",
        "    84.87123108   81.4460144 ]]\n",
        "<type 'numpy.ndarray'>\n"
       ]
      }
     ],
     "prompt_number": 8
    },
    {
     "cell_type": "code",
     "collapsed": false,
     "input": [
      "aa = fits.getdata('c4d_130830_040651_ooi_g_d1.fits.fz',35)"
     ],
     "language": "python",
     "metadata": {},
     "outputs": [],
     "prompt_number": 9
    },
    {
     "cell_type": "code",
     "collapsed": false,
     "input": [
      "aa"
     ],
     "language": "python",
     "metadata": {},
     "outputs": [
      {
       "metadata": {},
       "output_type": "pyout",
       "prompt_number": 10,
       "text": [
        "array([[  92.71305847,  101.7110672 ,  100.89545441, ...,   88.60440826,\n",
        "         102.03108978,   90.26667023],\n",
        "       [  82.93256378,  101.55097198,   84.50666809, ...,   87.37012482,\n",
        "         107.86907196,   85.24324799],\n",
        "       [  82.19949341,  108.16902161,   88.21839142, ...,   90.42832184,\n",
        "         104.96350861,   80.25991821],\n",
        "       ..., \n",
        "       [  80.81633759,   74.74933624,   80.73838806, ...,   72.16046906,\n",
        "          71.30683899,   77.66051483],\n",
        "       [  75.84840393,   86.37703705,   83.60525513, ...,   77.35205078,\n",
        "          76.08287811,   75.26010132],\n",
        "       [  82.86421967,   99.05469513,   81.21351624, ...,   74.40961456,\n",
        "          84.87123108,   81.4460144 ]], dtype=float32)"
       ]
      }
     ],
     "prompt_number": 10
    },
    {
     "cell_type": "code",
     "collapsed": false,
     "input": [
      "selected_image_hdulist['N5'].data"
     ],
     "language": "python",
     "metadata": {},
     "outputs": [
      {
       "metadata": {},
       "output_type": "pyout",
       "prompt_number": 11,
       "text": [
        "array([[  92.71305847,  101.7110672 ,  100.89545441, ...,   88.60440826,\n",
        "         102.03108978,   90.26667023],\n",
        "       [  82.93256378,  101.55097198,   84.50666809, ...,   87.37012482,\n",
        "         107.86907196,   85.24324799],\n",
        "       [  82.19949341,  108.16902161,   88.21839142, ...,   90.42832184,\n",
        "         104.96350861,   80.25991821],\n",
        "       ..., \n",
        "       [  80.81633759,   74.74933624,   80.73838806, ...,   72.16046906,\n",
        "          71.30683899,   77.66051483],\n",
        "       [  75.84840393,   86.37703705,   83.60525513, ...,   77.35205078,\n",
        "          76.08287811,   75.26010132],\n",
        "       [  82.86421967,   99.05469513,   81.21351624, ...,   74.40961456,\n",
        "          84.87123108,   81.4460144 ]], dtype=float32)"
       ]
      }
     ],
     "prompt_number": 11
    },
    {
     "cell_type": "heading",
     "level": 4,
     "metadata": {},
     "source": [
      "Also useful to get the image afw gets"
     ]
    },
    {
     "cell_type": "code",
     "collapsed": false,
     "input": [
      "# Using getdata but with index 0 instead of 35 as above, matches what LSST does\n",
      "print fits.getdata('c4d_130830_040651_ooi_g_d1.fits.fz', 0)\n",
      "# So note that the first card is indexed both by 0 and  1 and maps to the 1s extension in the hdulist # Aaaarghhh\n"
     ],
     "language": "python",
     "metadata": {},
     "outputs": [
      {
       "output_type": "stream",
       "stream": "stdout",
       "text": [
        "[[ 97.41546631  84.81324005  93.69174957 ...,  84.33326721  85.04653931\n",
        "   88.40110016]\n",
        " [ 91.63578796  80.95105743  95.34500885 ...,  87.82598877  84.85386658\n",
        "   87.8680191 ]\n",
        " [ 90.46903992  79.42099762  94.6944809  ...,  91.96668243  74.34983826\n",
        "   86.8735733 ]\n",
        " ..., \n",
        " [ 83.73936462  94.5776825   88.51887512 ...,  89.72322845  97.42559814\n",
        "   81.40225983]\n",
        " [ 90.87303162  92.67893982  89.37887573 ...,  90.98616791  91.39837646\n",
        "   83.49222565]\n",
        " [ 97.27548981  91.77610779  99.34577179 ...,  99.31739044  91.65666199\n",
        "   98.81751251]]\n"
       ]
      }
     ],
     "prompt_number": 12
    },
    {
     "cell_type": "code",
     "collapsed": false,
     "input": [
      "#get same thing with 1\n",
      "print fits.getdata('c4d_130830_040651_ooi_g_d1.fits.fz', 1)"
     ],
     "language": "python",
     "metadata": {},
     "outputs": [
      {
       "output_type": "stream",
       "stream": "stdout",
       "text": [
        "[[ 97.41546631  84.81324005  93.69174957 ...,  84.33326721  85.04653931\n",
        "   88.40110016]\n",
        " [ 91.63578796  80.95105743  95.34500885 ...,  87.82598877  84.85386658\n",
        "   87.8680191 ]\n",
        " [ 90.46903992  79.42099762  94.6944809  ...,  91.96668243  74.34983826\n",
        "   86.8735733 ]\n",
        " ..., \n",
        " [ 83.73936462  94.5776825   88.51887512 ...,  89.72322845  97.42559814\n",
        "   81.40225983]\n",
        " [ 90.87303162  92.67893982  89.37887573 ...,  90.98616791  91.39837646\n",
        "   83.49222565]\n",
        " [ 97.27548981  91.77610779  99.34577179 ...,  99.31739044  91.65666199\n",
        "   98.81751251]]\n"
       ]
      }
     ],
     "prompt_number": 13
    },
    {
     "cell_type": "heading",
     "level": 4,
     "metadata": {},
     "source": [
      "Now by using names directly"
     ]
    },
    {
     "cell_type": "code",
     "collapsed": false,
     "input": [
      "print selected_image_hdulist['PRIMARY'].data"
     ],
     "language": "python",
     "metadata": {},
     "outputs": [
      {
       "output_type": "stream",
       "stream": "stdout",
       "text": [
        "None\n"
       ]
      }
     ],
     "prompt_number": 14
    },
    {
     "cell_type": "code",
     "collapsed": false,
     "input": [
      "print selected_image_hdulist['S29'].data"
     ],
     "language": "python",
     "metadata": {},
     "outputs": [
      {
       "output_type": "stream",
       "stream": "stdout",
       "text": [
        "[[ 97.41546631  84.81324005  93.69174957 ...,  84.33326721  85.04653931\n",
        "   88.40110016]\n",
        " [ 91.63578796  80.95105743  95.34500885 ...,  87.82598877  84.85386658\n",
        "   87.8680191 ]\n",
        " [ 90.46903992  79.42099762  94.6944809  ...,  91.96668243  74.34983826\n",
        "   86.8735733 ]\n",
        " ..., \n",
        " [ 83.73936462  94.5776825   88.51887512 ...,  89.72322845  97.42559814\n",
        "   81.40225983]\n",
        " [ 90.87303162  92.67893982  89.37887573 ...,  90.98616791  91.39837646\n",
        "   83.49222565]\n",
        " [ 97.27548981  91.77610779  99.34577179 ...,  99.31739044  91.65666199\n",
        "   98.81751251]]\n"
       ]
      }
     ],
     "prompt_number": 15
    },
    {
     "cell_type": "code",
     "collapsed": false,
     "input": [
      "selected_image_hdulist[1].data"
     ],
     "language": "python",
     "metadata": {},
     "outputs": [
      {
       "metadata": {},
       "output_type": "pyout",
       "prompt_number": 16,
       "text": [
        "array([[ 97.41546631,  84.81324005,  93.69174957, ...,  84.33326721,\n",
        "         85.04653931,  88.40110016],\n",
        "       [ 91.63578796,  80.95105743,  95.34500885, ...,  87.82598877,\n",
        "         84.85386658,  87.8680191 ],\n",
        "       [ 90.46903992,  79.42099762,  94.6944809 , ...,  91.96668243,\n",
        "         74.34983826,  86.8735733 ],\n",
        "       ..., \n",
        "       [ 83.73936462,  94.5776825 ,  88.51887512, ...,  89.72322845,\n",
        "         97.42559814,  81.40225983],\n",
        "       [ 90.87303162,  92.67893982,  89.37887573, ...,  90.98616791,\n",
        "         91.39837646,  83.49222565],\n",
        "       [ 97.27548981,  91.77610779,  99.34577179, ...,  99.31739044,\n",
        "         91.65666199,  98.81751251]], dtype=float32)"
       ]
      }
     ],
     "prompt_number": 16
    },
    {
     "cell_type": "code",
     "collapsed": false,
     "input": [
      "selected_data.data.mean()"
     ],
     "language": "python",
     "metadata": {},
     "outputs": [
      {
       "metadata": {},
       "output_type": "pyout",
       "prompt_number": 17,
       "text": [
        "93.027908"
       ]
      }
     ],
     "prompt_number": 17
    },
    {
     "cell_type": "code",
     "collapsed": false,
     "input": [
      "selected_data.data.std()"
     ],
     "language": "python",
     "metadata": {},
     "outputs": [
      {
       "metadata": {},
       "output_type": "pyout",
       "prompt_number": 18,
       "text": [
        "114.79892"
       ]
      }
     ],
     "prompt_number": 18
    },
    {
     "cell_type": "code",
     "collapsed": false,
     "input": [
      "vnaivediff = selected_data.data - selected_data.data.mean()"
     ],
     "language": "python",
     "metadata": {},
     "outputs": [],
     "prompt_number": 19
    },
    {
     "cell_type": "code",
     "collapsed": false,
     "input": [
      "print vnaivediff.min(), vnaivediff.max(),  vnaivediff.mean()"
     ],
     "language": "python",
     "metadata": {},
     "outputs": [
      {
       "output_type": "stream",
       "stream": "stdout",
       "text": [
        "-44.564 34919.3 -2.83317e-05\n"
       ]
      }
     ],
     "prompt_number": 20
    },
    {
     "cell_type": "code",
     "collapsed": false,
     "input": [
      "ds9.setMaskTransparency(50)\n",
      "ds9_settings = {'scale':'zscale'}\n",
      "\n",
      "#Counter for frame number\n",
      "frame = 0\n",
      "\n",
      "#I believe extension 35 has a chip at the center of the focalplane (N4)\n",
      "exp = afwImage.ExposureF('c4d_130830_040651_ooi_g_d1.fits.fz[35]')\n",
      "ds9.mtv(exp, frame, title=\"Background Removed\", settings=ds9_settings); frame += 1"
     ],
     "language": "python",
     "metadata": {},
     "outputs": [],
     "prompt_number": 21
    },
    {
     "cell_type": "markdown",
     "metadata": {},
     "source": [
      "We next desire to subtract the background off of the image, so that we can detect peaks above the background.  We set up a grid of 256x256 pixel areas, compute moments of the pixels within each bin (which should be dominated by sky pixels), and fit a smooth function to the values within each bin.  This function represents the background in the image, which we then subtract off."
     ]
    },
    {
     "cell_type": "code",
     "collapsed": false,
     "input": [
      "#\n",
      "# Subtract background in the next few steps\n",
      "#\n",
      "mi = exp.getMaskedImage()"
     ],
     "language": "python",
     "metadata": {},
     "outputs": [],
     "prompt_number": 22
    },
    {
     "cell_type": "code",
     "collapsed": false,
     "input": [
      "help(exp.getMaskedImage)"
     ],
     "language": "python",
     "metadata": {},
     "outputs": [
      {
       "output_type": "stream",
       "stream": "stdout",
       "text": [
        "Help on method getMaskedImage in module lsst.afw.image.imageLib:\n",
        "\n",
        "getMaskedImage(self, *args) method of lsst.afw.image.imageLib.ExposureF instance\n",
        "    getMaskedImage(ExposureF self) -> MaskedImageF\n",
        "    getMaskedImage(ExposureF self) -> MaskedImageF\n",
        "\n"
       ]
      }
     ],
     "prompt_number": 23
    },
    {
     "cell_type": "code",
     "collapsed": false,
     "input": [
      "im = mi.getImage()\n",
      "back_size = 256"
     ],
     "language": "python",
     "metadata": {},
     "outputs": [],
     "prompt_number": 24
    },
    {
     "cell_type": "markdown",
     "metadata": {},
     "source": [
      "<font color='red'> where does this 256 come from?</font> Is this just a convenient choice for a 256 X 256 pixel ?"
     ]
    },
    {
     "cell_type": "code",
     "collapsed": false,
     "input": [
      "type(im)"
     ],
     "language": "python",
     "metadata": {},
     "outputs": [
      {
       "metadata": {},
       "output_type": "pyout",
       "prompt_number": 25,
       "text": [
        "lsst.afw.image.imageLib.ImageF"
       ]
      }
     ],
     "prompt_number": 25
    },
    {
     "cell_type": "code",
     "collapsed": false,
     "input": [
      "value, mask, variance = mi.getArrays()"
     ],
     "language": "python",
     "metadata": {},
     "outputs": [],
     "prompt_number": 26
    },
    {
     "cell_type": "code",
     "collapsed": false,
     "input": [
      "value"
     ],
     "language": "python",
     "metadata": {},
     "outputs": [
      {
       "metadata": {},
       "output_type": "pyout",
       "prompt_number": 27,
       "text": [
        "array([[ 97.41546631,  84.81324005,  93.69174957, ...,  84.33326721,\n",
        "         85.04653931,  88.40110016],\n",
        "       [ 91.63578796,  80.95105743,  95.34500885, ...,  87.82598877,\n",
        "         84.85386658,  87.8680191 ],\n",
        "       [ 90.46903992,  79.42099762,  94.6944809 , ...,  91.96668243,\n",
        "         74.34983826,  86.8735733 ],\n",
        "       ..., \n",
        "       [ 83.73936462,  94.5776825 ,  88.51887512, ...,  89.72322845,\n",
        "         97.42559814,  81.40225983],\n",
        "       [ 90.87303162,  92.67893982,  89.37887573, ...,  90.98616791,\n",
        "         91.39837646,  83.49222565],\n",
        "       [ 97.27548981,  91.77610779,  99.34577179, ...,  99.31739044,\n",
        "         91.65666199,  98.81751251]], dtype=float32)"
       ]
      }
     ],
     "prompt_number": 27
    },
    {
     "cell_type": "code",
     "collapsed": false,
     "input": [
      "mask"
     ],
     "language": "python",
     "metadata": {},
     "outputs": [
      {
       "metadata": {},
       "output_type": "pyout",
       "prompt_number": 28,
       "text": [
        "array([[0, 0, 0, ..., 0, 0, 0],\n",
        "       [0, 0, 0, ..., 0, 0, 0],\n",
        "       [0, 0, 0, ..., 0, 0, 0],\n",
        "       ..., \n",
        "       [0, 0, 0, ..., 0, 0, 0],\n",
        "       [0, 0, 0, ..., 0, 0, 0],\n",
        "       [0, 0, 0, ..., 0, 0, 0]], dtype=uint16)"
       ]
      }
     ],
     "prompt_number": 28
    },
    {
     "cell_type": "markdown",
     "metadata": {},
     "source": [
      "<font color='red'> mask is 0 everywhere. However the value of the masked image is not the same as the value of the array\n",
      "in fits file </font>. So what is the masked image ? It actually matches the image on extension card 1"
     ]
    },
    {
     "cell_type": "code",
     "collapsed": false,
     "input": [
      "print im.getWidth(), im.getHeight()\n",
      "# As expected from the dimensions of the hdulist.info()"
     ],
     "language": "python",
     "metadata": {},
     "outputs": [
      {
       "output_type": "stream",
       "stream": "stdout",
       "text": [
        "2046 4094\n"
       ]
      }
     ],
     "prompt_number": 29
    },
    {
     "cell_type": "code",
     "collapsed": false,
     "input": [
      "bctrl = afwMath.BackgroundControl(im.getWidth()//back_size  + 1,\n",
      "                                  im.getHeight()//back_size + 1)"
     ],
     "language": "python",
     "metadata": {},
     "outputs": [],
     "prompt_number": 30
    },
    {
     "cell_type": "code",
     "collapsed": false,
     "input": [
      "backobj = afwMath.makeBackground(im, bctrl)"
     ],
     "language": "python",
     "metadata": {},
     "outputs": [],
     "prompt_number": 31
    },
    {
     "cell_type": "code",
     "collapsed": false,
     "input": [
      "im -= backobj.getImageF(\"LINEAR\")"
     ],
     "language": "python",
     "metadata": {},
     "outputs": [],
     "prompt_number": 32
    },
    {
     "cell_type": "code",
     "collapsed": false,
     "input": [
      "type(im)"
     ],
     "language": "python",
     "metadata": {},
     "outputs": [
      {
       "metadata": {},
       "output_type": "pyout",
       "prompt_number": 33,
       "text": [
        "lsst.afw.image.imageLib.ImageF"
       ]
      }
     ],
     "prompt_number": 33
    },
    {
     "cell_type": "markdown",
     "metadata": {},
     "source": [
      "<font color='red'> Why does this not work when the object of the same type? </font>"
     ]
    },
    {
     "cell_type": "code",
     "collapsed": false,
     "input": [
      "#Try the same thing ?\n",
      "vv, mm, vva = im.getArrays()"
     ],
     "language": "python",
     "metadata": {},
     "outputs": [
      {
       "ename": "AttributeError",
       "evalue": "getArrays",
       "output_type": "pyerr",
       "traceback": [
        "\u001b[0;31m---------------------------------------------------------------------------\u001b[0m\n\u001b[0;31mAttributeError\u001b[0m                            Traceback (most recent call last)",
        "\u001b[0;32m<ipython-input-34-954f2f5fca83>\u001b[0m in \u001b[0;36m<module>\u001b[0;34m()\u001b[0m\n\u001b[1;32m      1\u001b[0m \u001b[0;31m#Try the same thing ?\u001b[0m\u001b[0;34m\u001b[0m\u001b[0;34m\u001b[0m\u001b[0m\n\u001b[0;32m----> 2\u001b[0;31m \u001b[0mvv\u001b[0m\u001b[0;34m,\u001b[0m \u001b[0mmm\u001b[0m\u001b[0;34m,\u001b[0m \u001b[0mvva\u001b[0m \u001b[0;34m=\u001b[0m \u001b[0mim\u001b[0m\u001b[0;34m.\u001b[0m\u001b[0mgetArrays\u001b[0m\u001b[0;34m(\u001b[0m\u001b[0;34m)\u001b[0m\u001b[0;34m\u001b[0m\u001b[0m\n\u001b[0m",
        "\u001b[0;32m/Users/rbiswas/soft/LSST/installation/root/DarwinX86/afw/master-gcb7650adda/python/lsst/afw/image/imageLib.pyc\u001b[0m in \u001b[0;36m<lambda>\u001b[0;34m(self, name)\u001b[0m\n\u001b[1;32m   3573\u001b[0m     \u001b[0m__swig_getmethods__\u001b[0m \u001b[0;34m=\u001b[0m \u001b[0;34m{\u001b[0m\u001b[0;34m}\u001b[0m\u001b[0;34m\u001b[0m\u001b[0m\n\u001b[1;32m   3574\u001b[0m     \u001b[0;32mfor\u001b[0m \u001b[0m_s\u001b[0m \u001b[0;32min\u001b[0m \u001b[0;34m[\u001b[0m\u001b[0mImageFBase\u001b[0m\u001b[0;34m]\u001b[0m\u001b[0;34m:\u001b[0m \u001b[0m__swig_getmethods__\u001b[0m\u001b[0;34m.\u001b[0m\u001b[0mupdate\u001b[0m\u001b[0;34m(\u001b[0m\u001b[0mgetattr\u001b[0m\u001b[0;34m(\u001b[0m\u001b[0m_s\u001b[0m\u001b[0;34m,\u001b[0m\u001b[0;34m'__swig_getmethods__'\u001b[0m\u001b[0;34m,\u001b[0m\u001b[0;34m{\u001b[0m\u001b[0;34m}\u001b[0m\u001b[0;34m)\u001b[0m\u001b[0;34m)\u001b[0m\u001b[0;34m\u001b[0m\u001b[0m\n\u001b[0;32m-> 3575\u001b[0;31m     \u001b[0m__getattr__\u001b[0m \u001b[0;34m=\u001b[0m \u001b[0;32mlambda\u001b[0m \u001b[0mself\u001b[0m\u001b[0;34m,\u001b[0m \u001b[0mname\u001b[0m\u001b[0;34m:\u001b[0m \u001b[0m_swig_getattr\u001b[0m\u001b[0;34m(\u001b[0m\u001b[0mself\u001b[0m\u001b[0;34m,\u001b[0m \u001b[0mImageF\u001b[0m\u001b[0;34m,\u001b[0m \u001b[0mname\u001b[0m\u001b[0;34m)\u001b[0m\u001b[0;34m\u001b[0m\u001b[0m\n\u001b[0m\u001b[1;32m   3576\u001b[0m     \u001b[0m__repr__\u001b[0m \u001b[0;34m=\u001b[0m \u001b[0m_swig_repr\u001b[0m\u001b[0;34m\u001b[0m\u001b[0m\n\u001b[1;32m   3577\u001b[0m     \u001b[0;32mdef\u001b[0m \u001b[0m__init__\u001b[0m\u001b[0;34m(\u001b[0m\u001b[0mself\u001b[0m\u001b[0;34m,\u001b[0m \u001b[0;34m*\u001b[0m\u001b[0margs\u001b[0m\u001b[0;34m)\u001b[0m\u001b[0;34m:\u001b[0m\u001b[0;34m\u001b[0m\u001b[0m\n",
        "\u001b[0;32m/Users/rbiswas/soft/LSST/installation/root/DarwinX86/afw/master-gcb7650adda/python/lsst/afw/image/imageLib.pyc\u001b[0m in \u001b[0;36m_swig_getattr\u001b[0;34m(self, class_type, name)\u001b[0m\n\u001b[1;32m     61\u001b[0m     \u001b[0mmethod\u001b[0m \u001b[0;34m=\u001b[0m \u001b[0mclass_type\u001b[0m\u001b[0;34m.\u001b[0m\u001b[0m__swig_getmethods__\u001b[0m\u001b[0;34m.\u001b[0m\u001b[0mget\u001b[0m\u001b[0;34m(\u001b[0m\u001b[0mname\u001b[0m\u001b[0;34m,\u001b[0m\u001b[0mNone\u001b[0m\u001b[0;34m)\u001b[0m\u001b[0;34m\u001b[0m\u001b[0m\n\u001b[1;32m     62\u001b[0m     \u001b[0;32mif\u001b[0m \u001b[0mmethod\u001b[0m\u001b[0;34m:\u001b[0m \u001b[0;32mreturn\u001b[0m \u001b[0mmethod\u001b[0m\u001b[0;34m(\u001b[0m\u001b[0mself\u001b[0m\u001b[0;34m)\u001b[0m\u001b[0;34m\u001b[0m\u001b[0m\n\u001b[0;32m---> 63\u001b[0;31m     \u001b[0;32mraise\u001b[0m \u001b[0mAttributeError\u001b[0m\u001b[0;34m(\u001b[0m\u001b[0mname\u001b[0m\u001b[0;34m)\u001b[0m\u001b[0;34m\u001b[0m\u001b[0m\n\u001b[0m\u001b[1;32m     64\u001b[0m \u001b[0;34m\u001b[0m\u001b[0m\n\u001b[1;32m     65\u001b[0m \u001b[0;32mdef\u001b[0m \u001b[0m_swig_repr\u001b[0m\u001b[0;34m(\u001b[0m\u001b[0mself\u001b[0m\u001b[0;34m)\u001b[0m\u001b[0;34m:\u001b[0m\u001b[0;34m\u001b[0m\u001b[0m\n",
        "\u001b[0;31mAttributeError\u001b[0m: getArrays"
       ]
      }
     ],
     "prompt_number": 34
    },
    {
     "cell_type": "code",
     "collapsed": false,
     "input": [
      "ds9.mtv(exp, frame, title=\"Background Removed\", settings=ds9_settings); frame += 1"
     ],
     "language": "python",
     "metadata": {},
     "outputs": [],
     "prompt_number": 35
    },
    {
     "cell_type": "code",
     "collapsed": false,
     "input": [
      "help(bctrl)"
     ],
     "language": "python",
     "metadata": {},
     "outputs": [
      {
       "output_type": "stream",
       "stream": "stdout",
       "text": [
        "Help on BackgroundControl in module lsst.afw.math.mathLib object:\n",
        "\n",
        "class BackgroundControl(__builtin__.object)\n",
        " |  Proxy of C++ lsst::afw::math::BackgroundControl class\n",
        " |  \n",
        " |  Methods defined here:\n",
        " |  \n",
        " |  __del__ lambda self\n",
        " |  \n",
        " |  __getattr__ lambda self, name\n",
        " |  \n",
        " |  __init__(self, *args)\n",
        " |      __init__(lsst::afw::math::BackgroundControl self, int const nxSample, int const nySample, StatisticsControl sctrl=lsst::afw::math::StatisticsControl(), \n",
        " |          lsst::afw::math::Property const prop=MEANCLIP) -> BackgroundControl\n",
        " |      __init__(lsst::afw::math::BackgroundControl self, int const nxSample, int const nySample, StatisticsControl sctrl=lsst::afw::math::StatisticsControl()) -> BackgroundControl\n",
        " |      __init__(lsst::afw::math::BackgroundControl self, int const nxSample, int const nySample) -> BackgroundControl\n",
        " |      __init__(lsst::afw::math::BackgroundControl self, int const nxSample, int const nySample, StatisticsControl sctrl, std::string const & prop) -> BackgroundControl\n",
        " |      __init__(lsst::afw::math::BackgroundControl self, lsst::afw::math::Interpolate::Style const style, int const nxSample=10, int const nySample=10, \n",
        " |          lsst::afw::math::UndersampleStyle const undersampleStyle=THROW_EXCEPTION, \n",
        " |          StatisticsControl sctrl=lsst::afw::math::StatisticsControl(), \n",
        " |          lsst::afw::math::Property const prop=MEANCLIP) -> BackgroundControl\n",
        " |      __init__(lsst::afw::math::BackgroundControl self, lsst::afw::math::Interpolate::Style const style, int const nxSample=10, int const nySample=10, \n",
        " |          lsst::afw::math::UndersampleStyle const undersampleStyle=THROW_EXCEPTION, \n",
        " |          StatisticsControl sctrl=lsst::afw::math::StatisticsControl()) -> BackgroundControl\n",
        " |      __init__(lsst::afw::math::BackgroundControl self, lsst::afw::math::Interpolate::Style const style, int const nxSample=10, int const nySample=10, \n",
        " |          lsst::afw::math::UndersampleStyle const undersampleStyle=THROW_EXCEPTION) -> BackgroundControl\n",
        " |      __init__(lsst::afw::math::BackgroundControl self, lsst::afw::math::Interpolate::Style const style, int const nxSample=10, int const nySample=10) -> BackgroundControl\n",
        " |      __init__(lsst::afw::math::BackgroundControl self, lsst::afw::math::Interpolate::Style const style, int const nxSample=10) -> BackgroundControl\n",
        " |      __init__(lsst::afw::math::BackgroundControl self, lsst::afw::math::Interpolate::Style const style) -> BackgroundControl\n",
        " |      __init__(lsst::afw::math::BackgroundControl self, std::string const & style, int const nxSample=10, int const nySample=10, std::string const & undersampleStyle=\"THROW_EXCEPTION\", \n",
        " |          StatisticsControl sctrl=lsst::afw::math::StatisticsControl(), \n",
        " |          std::string const & prop=\"MEANCLIP\") -> BackgroundControl\n",
        " |      __init__(lsst::afw::math::BackgroundControl self, std::string const & style, int const nxSample=10, int const nySample=10, std::string const & undersampleStyle=\"THROW_EXCEPTION\", \n",
        " |          StatisticsControl sctrl=lsst::afw::math::StatisticsControl()) -> BackgroundControl\n",
        " |      __init__(lsst::afw::math::BackgroundControl self, std::string const & style, int const nxSample=10, int const nySample=10, std::string const & undersampleStyle=\"THROW_EXCEPTION\") -> BackgroundControl\n",
        " |      __init__(lsst::afw::math::BackgroundControl self, std::string const & style, int const nxSample=10, int const nySample=10) -> BackgroundControl\n",
        " |      __init__(lsst::afw::math::BackgroundControl self, std::string const & style, int const nxSample=10) -> BackgroundControl\n",
        " |      __init__(lsst::afw::math::BackgroundControl self, std::string const & style) -> BackgroundControl\n",
        " |  \n",
        " |  __repr__ = _swig_repr(self)\n",
        " |  \n",
        " |  __setattr__ lambda self, name, value\n",
        " |  \n",
        " |  getInterpStyle(self)\n",
        " |      getInterpStyle(BackgroundControl self) -> lsst::afw::math::Interpolate::Style\n",
        " |  \n",
        " |  getNxSample(self)\n",
        " |      getNxSample(BackgroundControl self) -> int\n",
        " |  \n",
        " |  getNySample(self)\n",
        " |      getNySample(BackgroundControl self) -> int\n",
        " |  \n",
        " |  getStatisticsControl(self, *args)\n",
        " |      getStatisticsControl(BackgroundControl self) -> boost::shared_ptr< lsst::afw::math::StatisticsControl >\n",
        " |      getStatisticsControl(BackgroundControl self) -> boost::shared_ptr< lsst::afw::math::StatisticsControl const >\n",
        " |  \n",
        " |  getStatisticsProperty(self)\n",
        " |      getStatisticsProperty(BackgroundControl self) -> lsst::afw::math::Property\n",
        " |  \n",
        " |  getUndersampleStyle(self)\n",
        " |      getUndersampleStyle(BackgroundControl self) -> lsst::afw::math::UndersampleStyle\n",
        " |  \n",
        " |  setInterpStyle(self, *args)\n",
        " |      setInterpStyle(BackgroundControl self, lsst::afw::math::Interpolate::Style const style)\n",
        " |      setInterpStyle(BackgroundControl self, std::string const & style)\n",
        " |  \n",
        " |  setNxSample(self, *args)\n",
        " |      setNxSample(BackgroundControl self, int nxSample)\n",
        " |  \n",
        " |  setNySample(self, *args)\n",
        " |      setNySample(BackgroundControl self, int nySample)\n",
        " |  \n",
        " |  setStatisticsProperty(self, *args)\n",
        " |      setStatisticsProperty(BackgroundControl self, lsst::afw::math::Property prop)\n",
        " |      setStatisticsProperty(BackgroundControl self, std::string prop)\n",
        " |  \n",
        " |  setUndersampleStyle(self, *args)\n",
        " |      setUndersampleStyle(BackgroundControl self, lsst::afw::math::UndersampleStyle const undersampleStyle)\n",
        " |      setUndersampleStyle(BackgroundControl self, std::string const & undersampleStyle)\n",
        " |  \n",
        " |  ----------------------------------------------------------------------\n",
        " |  Data descriptors defined here:\n",
        " |  \n",
        " |  __dict__\n",
        " |      dictionary for instance variables (if defined)\n",
        " |  \n",
        " |  __weakref__\n",
        " |      list of weak references to the object (if defined)\n",
        " |  \n",
        " |  ----------------------------------------------------------------------\n",
        " |  Data and other attributes defined here:\n",
        " |  \n",
        " |  __swig_destroy__ = <built-in function delete_BackgroundControl>\n",
        " |      delete_BackgroundControl(BackgroundControl self)\n",
        " |  \n",
        " |  __swig_getmethods__ = {}\n",
        " |  \n",
        " |  __swig_setmethods__ = {}\n",
        "\n"
       ]
      }
     ],
     "prompt_number": 36
    },
    {
     "cell_type": "code",
     "collapsed": false,
     "input": [
      "#Values much smaller now due to background subtraction, easy to see on ds9 too\n",
      "# not sure why the last step of ds9.mtv was necessary for this to work\n",
      "im.getArray()"
     ],
     "language": "python",
     "metadata": {},
     "outputs": [
      {
       "metadata": {},
       "output_type": "pyout",
       "prompt_number": 80,
       "text": [
        "array([[  3.2489078 ,  -9.34552574,  -0.45923054, ...,  -9.268857  ,\n",
        "         -8.56184673,  -5.21354771],\n",
        "       [ -2.52318883, -13.20015335,   1.20157158, ...,  -5.77620459,\n",
        "         -8.75457668,  -5.74666548],\n",
        "       [ -3.6823554 , -14.72265053,   0.55857897, ...,  -1.63558829,\n",
        "        -19.25866127,  -6.74115562],\n",
        "       ..., \n",
        "       [ -6.62572098,   4.21229029,  -1.84683108, ...,  -0.93716002,\n",
        "          6.76691866,  -9.2547102 ],\n",
        "       [  0.5096274 ,   2.31522202,  -0.98516303, ...,   0.32420948,\n",
        "          0.73813647,  -7.16629601],\n",
        "       [  6.91377449,   1.41406441,   8.98340797, ...,   8.65386963,\n",
        "          0.99486136,   8.1574316 ]], dtype=float32)"
       ]
      }
     ],
     "prompt_number": 80
    },
    {
     "cell_type": "markdown",
     "metadata": {},
     "source": [
      "Note that the image basically looks the same as in the previous image, but the background values are centered on zero.\n",
      "\n",
      "Next, we look at the statistics of image, which are dominated by the sky pixels.  We look for the clipped mean (by clipping, we remove the high-sigma and low-sigma outliers, with the expectation that removing the high-sigma outliers removes the pixels that are associated with bright sources).  We define an upper threshold for detection of\n",
      "\n",
      " * $mean + 3 \\sigma$"
     ]
    },
    {
     "cell_type": "code",
     "collapsed": false,
     "input": [
      "nsigma = 3"
     ],
     "language": "python",
     "metadata": {},
     "outputs": [],
     "prompt_number": 37
    },
    {
     "cell_type": "code",
     "collapsed": false,
     "input": [
      "stats = afwMath.makeStatistics(im, afwMath.MEANCLIP | afwMath.STDEVCLIP)"
     ],
     "language": "python",
     "metadata": {},
     "outputs": [],
     "prompt_number": 38
    },
    {
     "cell_type": "code",
     "collapsed": false,
     "input": [
      "#Trying to understand the syntax ... what is the vertical bar ?\n",
      "help(afwMath.makeStatistics)"
     ],
     "language": "python",
     "metadata": {},
     "outputs": [
      {
       "output_type": "stream",
       "stream": "stdout",
       "text": [
        "Help on function makeStatistics in module lsst.afw.math.mathLib:\n",
        "\n",
        "makeStatistics(*args)\n",
        "    makeStatistics(MaskU msk, int const flags, StatisticsControl sctrl=lsst::afw::math::StatisticsControl()) -> Statistics\n",
        "    makeStatistics(MaskU msk, int const flags) -> Statistics\n",
        "    makeStatistics(ImageU img, MaskU msk, int const flags, StatisticsControl sctrl=lsst::afw::math::StatisticsControl()) -> Statistics\n",
        "    makeStatistics(ImageU img, MaskU msk, int const flags) -> Statistics\n",
        "    makeStatistics(MaskedImageU mimg, int const flags, StatisticsControl sctrl=lsst::afw::math::StatisticsControl()) -> Statistics\n",
        "    makeStatistics(MaskedImageU mimg, int const flags) -> Statistics\n",
        "    makeStatistics(MaskedImageU mimg, ImageF weights, int const flags, StatisticsControl sctrl=lsst::afw::math::StatisticsControl()) -> Statistics\n",
        "    makeStatistics(MaskedImageU mimg, ImageF weights, int const flags) -> Statistics\n",
        "    makeStatistics(ImageU img, int const flags, StatisticsControl sctrl=lsst::afw::math::StatisticsControl()) -> Statistics\n",
        "    makeStatistics(ImageU img, int const flags) -> Statistics\n",
        "    makeStatistics(std::vector< unsigned short,std::allocator< unsigned short > > const & v, int const flags, \n",
        "        StatisticsControl sctrl=lsst::afw::math::StatisticsControl()) -> Statistics\n",
        "    makeStatistics(std::vector< unsigned short,std::allocator< unsigned short > > const & v, int const flags) -> Statistics\n",
        "    makeStatistics(std::vector< unsigned short,std::allocator< unsigned short > > const & v, vectorF vweights, \n",
        "        int const flags, StatisticsControl sctrl=lsst::afw::math::StatisticsControl()) -> Statistics\n",
        "    makeStatistics(std::vector< unsigned short,std::allocator< unsigned short > > const & v, vectorF vweights, \n",
        "        int const flags) -> Statistics\n",
        "    makeStatistics(lsst::afw::math::MaskedVector< unsigned short > const & mv, int const flags, StatisticsControl sctrl=lsst::afw::math::StatisticsControl()) -> Statistics\n",
        "    makeStatistics(lsst::afw::math::MaskedVector< unsigned short > const & mv, int const flags) -> Statistics\n",
        "    makeStatistics(lsst::afw::math::MaskedVector< unsigned short > const & mv, vectorF vweights, int const flags, \n",
        "        StatisticsControl sctrl=lsst::afw::math::StatisticsControl()) -> Statistics\n",
        "    makeStatistics(lsst::afw::math::MaskedVector< unsigned short > const & mv, vectorF vweights, int const flags) -> Statistics\n",
        "    makeStatistics(ImageD img, MaskU msk, int const flags, StatisticsControl sctrl=lsst::afw::math::StatisticsControl()) -> Statistics\n",
        "    makeStatistics(ImageD img, MaskU msk, int const flags) -> Statistics\n",
        "    makeStatistics(MaskedImageD mimg, int const flags, StatisticsControl sctrl=lsst::afw::math::StatisticsControl()) -> Statistics\n",
        "    makeStatistics(MaskedImageD mimg, int const flags) -> Statistics\n",
        "    makeStatistics(MaskedImageD mimg, ImageF weights, int const flags, StatisticsControl sctrl=lsst::afw::math::StatisticsControl()) -> Statistics\n",
        "    makeStatistics(MaskedImageD mimg, ImageF weights, int const flags) -> Statistics\n",
        "    makeStatistics(ImageD img, int const flags, StatisticsControl sctrl=lsst::afw::math::StatisticsControl()) -> Statistics\n",
        "    makeStatistics(ImageD img, int const flags) -> Statistics\n",
        "    makeStatistics(vectorD v, int const flags, StatisticsControl sctrl=lsst::afw::math::StatisticsControl()) -> Statistics\n",
        "    makeStatistics(vectorD v, int const flags) -> Statistics\n",
        "    makeStatistics(vectorD v, vectorF vweights, int const flags, StatisticsControl sctrl=lsst::afw::math::StatisticsControl()) -> Statistics\n",
        "    makeStatistics(vectorD v, vectorF vweights, int const flags) -> Statistics\n",
        "    makeStatistics(lsst::afw::math::MaskedVector< double > const & mv, int const flags, StatisticsControl sctrl=lsst::afw::math::StatisticsControl()) -> Statistics\n",
        "    makeStatistics(lsst::afw::math::MaskedVector< double > const & mv, int const flags) -> Statistics\n",
        "    makeStatistics(lsst::afw::math::MaskedVector< double > const & mv, vectorF vweights, int const flags, \n",
        "        StatisticsControl sctrl=lsst::afw::math::StatisticsControl()) -> Statistics\n",
        "    makeStatistics(lsst::afw::math::MaskedVector< double > const & mv, vectorF vweights, int const flags) -> Statistics\n",
        "    makeStatistics(ImageF img, MaskU msk, int const flags, StatisticsControl sctrl=lsst::afw::math::StatisticsControl()) -> Statistics\n",
        "    makeStatistics(ImageF img, MaskU msk, int const flags) -> Statistics\n",
        "    makeStatistics(MaskedImageF mimg, int const flags, StatisticsControl sctrl=lsst::afw::math::StatisticsControl()) -> Statistics\n",
        "    makeStatistics(MaskedImageF mimg, int const flags) -> Statistics\n",
        "    makeStatistics(MaskedImageF mimg, ImageF weights, int const flags, StatisticsControl sctrl=lsst::afw::math::StatisticsControl()) -> Statistics\n",
        "    makeStatistics(MaskedImageF mimg, ImageF weights, int const flags) -> Statistics\n",
        "    makeStatistics(ImageF img, int const flags, StatisticsControl sctrl=lsst::afw::math::StatisticsControl()) -> Statistics\n",
        "    makeStatistics(ImageF img, int const flags) -> Statistics\n",
        "    makeStatistics(vectorF v, int const flags, StatisticsControl sctrl=lsst::afw::math::StatisticsControl()) -> Statistics\n",
        "    makeStatistics(vectorF v, int const flags) -> Statistics\n",
        "    makeStatistics(vectorF v, vectorF vweights, int const flags, StatisticsControl sctrl=lsst::afw::math::StatisticsControl()) -> Statistics\n",
        "    makeStatistics(vectorF v, vectorF vweights, int const flags) -> Statistics\n",
        "    makeStatistics(lsst::afw::math::MaskedVector< float > const & mv, int const flags, StatisticsControl sctrl=lsst::afw::math::StatisticsControl()) -> Statistics\n",
        "    makeStatistics(lsst::afw::math::MaskedVector< float > const & mv, int const flags) -> Statistics\n",
        "    makeStatistics(lsst::afw::math::MaskedVector< float > const & mv, vectorF vweights, int const flags, \n",
        "        StatisticsControl sctrl=lsst::afw::math::StatisticsControl()) -> Statistics\n",
        "    makeStatistics(lsst::afw::math::MaskedVector< float > const & mv, vectorF vweights, int const flags) -> Statistics\n",
        "    makeStatistics(ImageI img, MaskU msk, int const flags, StatisticsControl sctrl=lsst::afw::math::StatisticsControl()) -> Statistics\n",
        "    makeStatistics(ImageI img, MaskU msk, int const flags) -> Statistics\n",
        "    makeStatistics(MaskedImageI mimg, int const flags, StatisticsControl sctrl=lsst::afw::math::StatisticsControl()) -> Statistics\n",
        "    makeStatistics(MaskedImageI mimg, int const flags) -> Statistics\n",
        "    makeStatistics(MaskedImageI mimg, ImageF weights, int const flags, StatisticsControl sctrl=lsst::afw::math::StatisticsControl()) -> Statistics\n",
        "    makeStatistics(MaskedImageI mimg, ImageF weights, int const flags) -> Statistics\n",
        "    makeStatistics(ImageI img, int const flags, StatisticsControl sctrl=lsst::afw::math::StatisticsControl()) -> Statistics\n",
        "    makeStatistics(ImageI img, int const flags) -> Statistics\n",
        "    makeStatistics(vectorI v, int const flags, StatisticsControl sctrl=lsst::afw::math::StatisticsControl()) -> Statistics\n",
        "    makeStatistics(vectorI v, int const flags) -> Statistics\n",
        "    makeStatistics(vectorI v, vectorF vweights, int const flags, StatisticsControl sctrl=lsst::afw::math::StatisticsControl()) -> Statistics\n",
        "    makeStatistics(vectorI v, vectorF vweights, int const flags) -> Statistics\n",
        "    makeStatistics(lsst::afw::math::MaskedVector< int > const & mv, int const flags, StatisticsControl sctrl=lsst::afw::math::StatisticsControl()) -> Statistics\n",
        "    makeStatistics(lsst::afw::math::MaskedVector< int > const & mv, int const flags) -> Statistics\n",
        "    makeStatistics(lsst::afw::math::MaskedVector< int > const & mv, vectorF vweights, int const flags, \n",
        "        StatisticsControl sctrl=lsst::afw::math::StatisticsControl()) -> Statistics\n",
        "    makeStatistics(lsst::afw::math::MaskedVector< int > const & mv, vectorF vweights, int const flags) -> Statistics\n",
        "\n"
       ]
      }
     ],
     "prompt_number": 39
    },
    {
     "cell_type": "code",
     "collapsed": false,
     "input": [
      "# tuple of value, error\n",
      "stats.getResult(afwMath.MEANCLIP)"
     ],
     "language": "python",
     "metadata": {},
     "outputs": [
      {
       "metadata": {},
       "output_type": "pyout",
       "prompt_number": 49,
       "text": [
        "(-0.0111085821502078, nan)"
       ]
      }
     ],
     "prompt_number": 49
    },
    {
     "cell_type": "code",
     "collapsed": false,
     "input": [
      "stats.getValue(afwMath.MEANCLIP)"
     ],
     "language": "python",
     "metadata": {},
     "outputs": [
      {
       "metadata": {},
       "output_type": "pyout",
       "prompt_number": 47,
       "text": [
        "-0.0111085821502078"
       ]
      }
     ],
     "prompt_number": 47
    },
    {
     "cell_type": "code",
     "collapsed": false,
     "input": [
      "stats.getError(afwMath.MEANCLIP)"
     ],
     "language": "python",
     "metadata": {},
     "outputs": [
      {
       "metadata": {},
       "output_type": "pyout",
       "prompt_number": 48,
       "text": [
        "nan"
       ]
      }
     ],
     "prompt_number": 48
    },
    {
     "cell_type": "code",
     "collapsed": false,
     "input": [
      "threshold = stats.getValue(afwMath.MEANCLIP) + nsigma*stats.getValue(afwMath.STDEVCLIP)\n",
      "print \"Mean of the image is %.3f counts, stdev is %.3f counts\" % (stats.getValue(afwMath.MEANCLIP), stats.getValue(afwMath.STDEVCLIP))\n",
      "print \"The %d-sigma detection threshold is at %.2f counts\" % (nsigma, threshold)"
     ],
     "language": "python",
     "metadata": {},
     "outputs": [
      {
       "output_type": "stream",
       "stream": "stdout",
       "text": [
        "Mean of the image is -0.011 counts, stdev is 5.262 counts\n",
        "The 3-sigma detection threshold is at 15.78 counts\n"
       ]
      }
     ],
     "prompt_number": 58
    },
    {
     "cell_type": "markdown",
     "metadata": {},
     "source": [
      "We next want to look for objects within this image.  Formally, the optimal filter for detecting signals of shape g(x) from within an image $I(x)=A*g(x) + \\epsilon(x)$ is g(x).  In other words, the optimal filter for g(x) is g(x) itself!  For the detection of point sources, g(x) _is_ the Psf of the image.\n",
      "\n",
      "However, at this point in time we don't know the Psf.  So we use an approximation to the Psf; something that is sharply peaked and which falls off with some charateristic width.  Here we use a filter with a FWHM = 2 pixels.  We smooth the image with this filter, which yields a maximum likelihood image for the detection of point sources that have a width of 2 pixels."
     ]
    },
    {
     "cell_type": "code",
     "collapsed": false,
     "input": [
      "#\n",
      "# Smooth image with a\n",
      "#    1 2 1\n",
      "#    2 4 2\n",
      "#    1 2 1\n",
      "# filter\n",
      "oneD = afwMath.PolynomialFunction1D([2, 0, -1])\n",
      "# This is an object. What does it represent ? Is it 2 -x ? or -1 + 2 *x*x ?\n",
      "kernel = afwMath.SeparableKernel(3, 3, oneD, oneD)\n",
      "# What does this mean? and how does it connect to the filter above? "
     ],
     "language": "python",
     "metadata": {},
     "outputs": [],
     "prompt_number": 50
    },
    {
     "cell_type": "code",
     "collapsed": false,
     "input": [
      "smoothedIm = im.Factory(im.getDimensions())"
     ],
     "language": "python",
     "metadata": {},
     "outputs": [],
     "prompt_number": 51
    },
    {
     "cell_type": "code",
     "collapsed": false,
     "input": [
      "ss = smoothedIm.getArray()"
     ],
     "language": "python",
     "metadata": {},
     "outputs": [],
     "prompt_number": 53
    },
    {
     "cell_type": "code",
     "collapsed": false,
     "input": [
      "np.alltrue(ss==0)"
     ],
     "language": "python",
     "metadata": {},
     "outputs": [
      {
       "metadata": {},
       "output_type": "pyout",
       "prompt_number": 55,
       "text": [
        "True"
       ]
      }
     ],
     "prompt_number": 55
    },
    {
     "cell_type": "markdown",
     "metadata": {},
     "source": [
      "So this was like starting numpy zeros with appropriate shape copied of the older image."
     ]
    },
    {
     "cell_type": "code",
     "collapsed": false,
     "input": [
      "afwMath.convolve(smoothedIm, im, kernel)\n",
      "ds9.mtv(smoothedIm, frame=frame, title=\"Detection Image (smoothed with a filter)\", settings=ds9_settings)\n",
      "frame += 1"
     ],
     "language": "python",
     "metadata": {},
     "outputs": [],
     "prompt_number": 56
    },
    {
     "cell_type": "markdown",
     "metadata": {},
     "source": [
      "Note that this image looks smoothed compared to the previous image; this is the effect of the convolution.  \n",
      "\n",
      "We then search for these 3-sigma peaks within the image, and group together nearby pixels that are also above this threshold.  These are stored in \"footprints\" which represent an associated set of pixels."
     ]
    },
    {
     "cell_type": "code",
     "collapsed": false,
     "input": [
      "npixMin = 1\n",
      "# Find the cases where the smoothedIm exceeds the detection threshold in at leaast npixMin\n",
      "fs0 = afwDetection.FootprintSet(smoothedIm, afwDetection.Threshold(threshold), npixMin)"
     ],
     "language": "python",
     "metadata": {},
     "outputs": [],
     "prompt_number": 59
    },
    {
     "cell_type": "code",
     "collapsed": false,
     "input": [
      "print type(fs0)\n",
      "help(fs0)"
     ],
     "language": "python",
     "metadata": {},
     "outputs": [
      {
       "output_type": "stream",
       "stream": "stdout",
       "text": [
        "<class 'lsst.afw.detection.detectionLib.FootprintSet'>\n",
        "Help on FootprintSet in module lsst.afw.detection.detectionLib object:\n",
        "\n",
        "class FootprintSet(lsst.daf.base.baseLib.Citizen)\n",
        " |  Proxy of C++ lsst::afw::detection::FootprintSet class\n",
        " |  \n",
        " |  Method resolution order:\n",
        " |      FootprintSet\n",
        " |      lsst.daf.base.baseLib.Citizen\n",
        " |      __builtin__.object\n",
        " |  \n",
        " |  Methods defined here:\n",
        " |  \n",
        " |  __del__ lambda self\n",
        " |  \n",
        " |  __getattr__ lambda self, name\n",
        " |  \n",
        " |  __init__(self, *args)\n",
        " |      __init__(lsst::afw::detection::FootprintSet self, MaskU img, Threshold threshold, int const npixMin=1) -> FootprintSet\n",
        " |      __init__(lsst::afw::detection::FootprintSet self, MaskU img, Threshold threshold) -> FootprintSet\n",
        " |      __init__(lsst::afw::detection::FootprintSet self, ImageU img, Threshold threshold, int const npixMin=1, bool const setPeaks=True) -> FootprintSet\n",
        " |      __init__(lsst::afw::detection::FootprintSet self, ImageU img, Threshold threshold, int const npixMin=1) -> FootprintSet\n",
        " |      __init__(lsst::afw::detection::FootprintSet self, ImageU img, Threshold threshold) -> FootprintSet\n",
        " |      __init__(lsst::afw::detection::FootprintSet self, MaskedImageU img, Threshold threshold, std::string const & planeName=\"\", int const npixMin=1, \n",
        " |          bool const setPeaks=True) -> FootprintSet\n",
        " |      __init__(lsst::afw::detection::FootprintSet self, MaskedImageU img, Threshold threshold, std::string const & planeName=\"\", int const npixMin=1) -> FootprintSet\n",
        " |      __init__(lsst::afw::detection::FootprintSet self, MaskedImageU img, Threshold threshold, std::string const & planeName=\"\") -> FootprintSet\n",
        " |      __init__(lsst::afw::detection::FootprintSet self, MaskedImageU img, Threshold threshold) -> FootprintSet\n",
        " |      __init__(lsst::afw::detection::FootprintSet self, MaskedImageU img, Threshold threshold, int x, int y, PeakContainerT peaks=None) -> FootprintSet\n",
        " |      __init__(lsst::afw::detection::FootprintSet self, MaskedImageU img, Threshold threshold, int x, int y) -> FootprintSet\n",
        " |      __init__(lsst::afw::detection::FootprintSet self, ImageI img, Threshold threshold, int const npixMin=1, bool const setPeaks=True) -> FootprintSet\n",
        " |      __init__(lsst::afw::detection::FootprintSet self, ImageI img, Threshold threshold, int const npixMin=1) -> FootprintSet\n",
        " |      __init__(lsst::afw::detection::FootprintSet self, ImageI img, Threshold threshold) -> FootprintSet\n",
        " |      __init__(lsst::afw::detection::FootprintSet self, MaskedImageI img, Threshold threshold, std::string const & planeName=\"\", int const npixMin=1, \n",
        " |          bool const setPeaks=True) -> FootprintSet\n",
        " |      __init__(lsst::afw::detection::FootprintSet self, MaskedImageI img, Threshold threshold, std::string const & planeName=\"\", int const npixMin=1) -> FootprintSet\n",
        " |      __init__(lsst::afw::detection::FootprintSet self, MaskedImageI img, Threshold threshold, std::string const & planeName=\"\") -> FootprintSet\n",
        " |      __init__(lsst::afw::detection::FootprintSet self, MaskedImageI img, Threshold threshold) -> FootprintSet\n",
        " |      __init__(lsst::afw::detection::FootprintSet self, MaskedImageI img, Threshold threshold, int x, int y, PeakContainerT peaks=None) -> FootprintSet\n",
        " |      __init__(lsst::afw::detection::FootprintSet self, MaskedImageI img, Threshold threshold, int x, int y) -> FootprintSet\n",
        " |      __init__(lsst::afw::detection::FootprintSet self, ImageF img, Threshold threshold, int const npixMin=1, bool const setPeaks=True) -> FootprintSet\n",
        " |      __init__(lsst::afw::detection::FootprintSet self, ImageF img, Threshold threshold, int const npixMin=1) -> FootprintSet\n",
        " |      __init__(lsst::afw::detection::FootprintSet self, ImageF img, Threshold threshold) -> FootprintSet\n",
        " |      __init__(lsst::afw::detection::FootprintSet self, MaskedImageF img, Threshold threshold, std::string const & planeName=\"\", int const npixMin=1, \n",
        " |          bool const setPeaks=True) -> FootprintSet\n",
        " |      __init__(lsst::afw::detection::FootprintSet self, MaskedImageF img, Threshold threshold, std::string const & planeName=\"\", int const npixMin=1) -> FootprintSet\n",
        " |      __init__(lsst::afw::detection::FootprintSet self, MaskedImageF img, Threshold threshold, std::string const & planeName=\"\") -> FootprintSet\n",
        " |      __init__(lsst::afw::detection::FootprintSet self, MaskedImageF img, Threshold threshold) -> FootprintSet\n",
        " |      __init__(lsst::afw::detection::FootprintSet self, MaskedImageF img, Threshold threshold, int x, int y, PeakContainerT peaks=None) -> FootprintSet\n",
        " |      __init__(lsst::afw::detection::FootprintSet self, MaskedImageF img, Threshold threshold, int x, int y) -> FootprintSet\n",
        " |      __init__(lsst::afw::detection::FootprintSet self, ImageD img, Threshold threshold, int const npixMin=1, bool const setPeaks=True) -> FootprintSet\n",
        " |      __init__(lsst::afw::detection::FootprintSet self, ImageD img, Threshold threshold, int const npixMin=1) -> FootprintSet\n",
        " |      __init__(lsst::afw::detection::FootprintSet self, ImageD img, Threshold threshold) -> FootprintSet\n",
        " |      __init__(lsst::afw::detection::FootprintSet self, MaskedImageD img, Threshold threshold, std::string const & planeName=\"\", int const npixMin=1, \n",
        " |          bool const setPeaks=True) -> FootprintSet\n",
        " |      __init__(lsst::afw::detection::FootprintSet self, MaskedImageD img, Threshold threshold, std::string const & planeName=\"\", int const npixMin=1) -> FootprintSet\n",
        " |      __init__(lsst::afw::detection::FootprintSet self, MaskedImageD img, Threshold threshold, std::string const & planeName=\"\") -> FootprintSet\n",
        " |      __init__(lsst::afw::detection::FootprintSet self, MaskedImageD img, Threshold threshold) -> FootprintSet\n",
        " |      __init__(lsst::afw::detection::FootprintSet self, MaskedImageD img, Threshold threshold, int x, int y, PeakContainerT peaks=None) -> FootprintSet\n",
        " |      __init__(lsst::afw::detection::FootprintSet self, MaskedImageD img, Threshold threshold, int x, int y) -> FootprintSet\n",
        " |      __init__(lsst::afw::detection::FootprintSet self, Box2I region) -> FootprintSet\n",
        " |      __init__(lsst::afw::detection::FootprintSet self, FootprintSet arg2) -> FootprintSet\n",
        " |      __init__(lsst::afw::detection::FootprintSet self, FootprintSet set, int rGrow, FootprintControl ctrl) -> FootprintSet\n",
        " |      __init__(lsst::afw::detection::FootprintSet self, FootprintSet set, int rGrow, bool isotropic=True) -> FootprintSet\n",
        " |      __init__(lsst::afw::detection::FootprintSet self, FootprintSet set, int rGrow) -> FootprintSet\n",
        " |      __init__(lsst::afw::detection::FootprintSet self, FootprintSet footprints1, FootprintSet footprints2, bool const includePeaks) -> FootprintSet\n",
        " |  \n",
        " |  __repr__ = _swig_repr(self)\n",
        " |  \n",
        " |  __setattr__ lambda self, name, value\n",
        " |  \n",
        " |  getFootprints(self, *args)\n",
        " |      getFootprints(FootprintSet self) -> boost::shared_ptr< lsst::afw::detection::FootprintSet::FootprintList >\n",
        " |      getFootprints(FootprintSet self) -> boost::shared_ptr< lsst::afw::detection::FootprintSet::FootprintList const > const\n",
        " |  \n",
        " |  getRegion(self)\n",
        " |      getRegion(FootprintSet self) -> Box2I\n",
        " |  \n",
        " |  insertIntoImage(self, *args)\n",
        " |      insertIntoImage(FootprintSet self, bool const relativeIDs) -> boost::shared_ptr< lsst::afw::image::Image< lsst::afw::detection::FootprintIdPixel > >\n",
        " |  \n",
        " |  makeHeavy(self, *args)\n",
        " |      makeHeavy(FootprintSet self, MaskedImageU mimg, HeavyFootprintCtrl ctrl=None)\n",
        " |      makeHeavy(FootprintSet self, MaskedImageU mimg)\n",
        " |      makeHeavy(FootprintSet self, MaskedImageI mimg, HeavyFootprintCtrl ctrl=None)\n",
        " |      makeHeavy(FootprintSet self, MaskedImageI mimg)\n",
        " |      makeHeavy(FootprintSet self, MaskedImageF mimg, HeavyFootprintCtrl ctrl=None)\n",
        " |      makeHeavy(FootprintSet self, MaskedImageF mimg)\n",
        " |      makeHeavy(FootprintSet self, MaskedImageD mimg, HeavyFootprintCtrl ctrl=None)\n",
        " |      makeHeavy(FootprintSet self, MaskedImageD mimg)\n",
        " |  \n",
        " |  makeSources(self, *args)\n",
        " |      makeSources(FootprintSet self, SourceCatalog catalog)\n",
        " |  \n",
        " |  merge(self, *args)\n",
        " |      merge(FootprintSet self, FootprintSet rhs, int tGrow=0, int rGrow=0, bool isotropic=True)\n",
        " |      merge(FootprintSet self, FootprintSet rhs, int tGrow=0, int rGrow=0)\n",
        " |      merge(FootprintSet self, FootprintSet rhs, int tGrow=0)\n",
        " |      merge(FootprintSet self, FootprintSet rhs)\n",
        " |  \n",
        " |  setFootprints(self, *args)\n",
        " |      setFootprints(FootprintSet self, boost::shared_ptr< lsst::afw::detection::FootprintSet::FootprintList > footprints)\n",
        " |  \n",
        " |  setMask(self, *args)\n",
        " |      setMask(FootprintSet self, MaskU mask, std::string const & planeName)\n",
        " |      setMask(FootprintSet self, boost::shared_ptr< lsst::afw::image::Mask< unsigned short > > mask, std::string const & planeName)\n",
        " |  \n",
        " |  setRegion(self, *args)\n",
        " |      setRegion(FootprintSet self, Box2I region)\n",
        " |  \n",
        " |  swap(self, *args)\n",
        " |      swap(FootprintSet self, FootprintSet rhs)\n",
        " |  \n",
        " |  ----------------------------------------------------------------------\n",
        " |  Data and other attributes defined here:\n",
        " |  \n",
        " |  __swig_destroy__ = <built-in function delete_FootprintSet>\n",
        " |      delete_FootprintSet(FootprintSet self)\n",
        " |  \n",
        " |  __swig_getmethods__ = {'census': <function <lambda>>, 'getNextMemId': ...\n",
        " |  \n",
        " |  __swig_setmethods__ = {}\n",
        " |  \n",
        " |  ----------------------------------------------------------------------\n",
        " |  Methods inherited from lsst.daf.base.baseLib.Citizen:\n",
        " |  \n",
        " |  getId(self)\n",
        " |      getId(Citizen self) -> lsst::daf::base::Citizen::memId\n",
        " |  \n",
        " |  markPersistent(self)\n",
        " |      markPersistent(Citizen self)\n",
        " |  \n",
        " |  repr(self)\n",
        " |      repr(Citizen self) -> std::string\n",
        " |  \n",
        " |  ----------------------------------------------------------------------\n",
        " |  Static methods inherited from lsst.daf.base.baseLib.Citizen:\n",
        " |  \n",
        " |  census(*args)\n",
        " |      census(int arg1, lsst::daf::base::Citizen::memId startingMemId=0) -> int\n",
        " |      census(int arg1) -> int\n",
        " |      census(ostream stream, lsst::daf::base::Citizen::memId startingMemId=0)\n",
        " |      census(ostream stream)\n",
        " |      census() -> vectorCitizen\n",
        " |  \n",
        " |  getNextMemId()\n",
        " |      getNextMemId() -> lsst::daf::base::Citizen::memId\n",
        " |  \n",
        " |  hasBeenCorrupted()\n",
        " |      hasBeenCorrupted() -> bool\n",
        " |  \n",
        " |  init()\n",
        " |      init() -> int\n",
        " |  \n",
        " |  setCorruptionCallback(*args)\n",
        " |      setCorruptionCallback(lsst::daf::base::Citizen::memCallback func) -> lsst::daf::base::Citizen::memCallback\n",
        " |  \n",
        " |  setDeleteCallback(*args)\n",
        " |      setDeleteCallback(lsst::daf::base::Citizen::memCallback func) -> lsst::daf::base::Citizen::memCallback\n",
        " |  \n",
        " |  setDeleteCallbackId(*args)\n",
        " |      setDeleteCallbackId(lsst::daf::base::Citizen::memId id) -> lsst::daf::base::Citizen::memId\n",
        " |  \n",
        " |  setNewCallback(*args)\n",
        " |      setNewCallback(lsst::daf::base::Citizen::memNewCallback func) -> lsst::daf::base::Citizen::memNewCallback\n",
        " |  \n",
        " |  setNewCallbackId(*args)\n",
        " |      setNewCallbackId(lsst::daf::base::Citizen::memId id) -> lsst::daf::base::Citizen::memId\n",
        " |  \n",
        " |  ----------------------------------------------------------------------\n",
        " |  Data descriptors inherited from lsst.daf.base.baseLib.Citizen:\n",
        " |  \n",
        " |  __dict__\n",
        " |      dictionary for instance variables (if defined)\n",
        " |  \n",
        " |  __weakref__\n",
        " |      list of weak references to the object (if defined)\n",
        " |  \n",
        " |  ----------------------------------------------------------------------\n",
        " |  Data and other attributes inherited from lsst.daf.base.baseLib.Citizen:\n",
        " |  \n",
        " |  magicSentinel = -559038737\n",
        "\n"
       ]
      }
     ],
     "prompt_number": 61
    },
    {
     "cell_type": "code",
     "collapsed": false,
     "input": [
      "xx = fs0.getFootprints()"
     ],
     "language": "python",
     "metadata": {},
     "outputs": [],
     "prompt_number": 63
    },
    {
     "cell_type": "code",
     "collapsed": false,
     "input": [
      "ds9.mtv(smoothedIm, frame=frame, title=\"Detected Footprints at %d sigma\" % (nsigma), settings=ds9_settings)\n",
      "for footprint in fs0.getFootprints():\n",
      "    displayUtils.drawFootprint(footprint, frame=frame)\n",
      "frame += 1"
     ],
     "language": "python",
     "metadata": {},
     "outputs": [],
     "prompt_number": 64
    },
    {
     "cell_type": "markdown",
     "metadata": {},
     "source": [
      "Because we are only associating 5-sigma pixels with each other, grow these detections a little bit to include the lower-sigma (e.g. 3-sigma) pixels within the footprint."
     ]
    },
    {
     "cell_type": "markdown",
     "metadata": {},
     "source": [
      "<font color='red'> Where did the 5-sigma come from ? I thought we were only doing 3 sigma? </font>"
     ]
    },
    {
     "cell_type": "code",
     "collapsed": true,
     "input": [
      "grow = 1\n",
      "isotropic = False\n",
      "fs = afwDetection.FootprintSet(fs0, grow, isotropic)\n",
      "ds9.mtv(smoothedIm, frame=frame, title=\"Grown Footprints\", settings=ds9_settings)\n",
      "boxes = []\n",
      "for footprint in fs.getFootprints():\n",
      "    displayUtils.drawFootprint(footprint, frame=frame)\n",
      "    displayUtils.drawBBox(footprint.getBBox(), ctype='blue', frame=frame)\n",
      "    boxes.append(footprint.getBBox())\n",
      "frame += 1"
     ],
     "language": "python",
     "metadata": {},
     "outputs": [],
     "prompt_number": 65
    },
    {
     "cell_type": "markdown",
     "metadata": {},
     "source": [
      "We can pick a random footprint and look at the pixels in the bounding box."
     ]
    },
    {
     "cell_type": "code",
     "collapsed": false,
     "input": [
      "len(boxes)"
     ],
     "language": "python",
     "metadata": {},
     "outputs": [
      {
       "metadata": {},
       "output_type": "pyout",
       "prompt_number": 66,
       "text": [
        "1085"
       ]
      }
     ],
     "prompt_number": 66
    },
    {
     "cell_type": "code",
     "collapsed": false,
     "input": [
      "boxes[100]"
     ],
     "language": "python",
     "metadata": {},
     "outputs": [
      {
       "metadata": {},
       "output_type": "pyout",
       "prompt_number": 68,
       "text": [
        "Box2I(Point2I(274, 395), Extent2I(12, 12))"
       ]
      }
     ],
     "prompt_number": 68
    },
    {
     "cell_type": "code",
     "collapsed": false,
     "input": [
      "ds9.mtv(im.Factory(im, boxes[100]), frame=frame)\n",
      "frame += 1"
     ],
     "language": "python",
     "metadata": {},
     "outputs": [],
     "prompt_number": 69
    },
    {
     "cell_type": "markdown",
     "metadata": {},
     "source": [
      "Now that you can get postage stamps of each footprint, you can start experimenting with measurements on your own.\n",
      "\n",
      "Now tell the original image that we have \"detected\" footprints at these positions.  The DETECTION plane of the image will now be set at these pixel locations."
     ]
    },
    {
     "cell_type": "code",
     "collapsed": false,
     "input": [
      "fs.setMask(mi.getMask(), \"DETECTED\")\n",
      "ds9.mtv(mi, frame=frame, title=\"Detection plane in original image\", settings=ds9_settings); frame += 1"
     ],
     "language": "python",
     "metadata": {},
     "outputs": [],
     "prompt_number": 70
    },
    {
     "cell_type": "heading",
     "level": 3,
     "metadata": {},
     "source": [
      "Do I have to do all the detection and measurement by hand?"
     ]
    },
    {
     "cell_type": "markdown",
     "metadata": {},
     "source": [
      "No.  The stack has pre-canned sets of routines that allow running data throught he algorithms in a more pipeline-like environment.  The units of these pipelines are called tasks and each task can be configured.\n",
      "\n",
      "**Important** One of the things to know is that the tasks can modify the schema at costruction time.  This means that if you plan on putting all your measurements in one table, you need to pass the schema from one task constructor to the next.  If you do not, you will get schema mismatches down the road."
     ]
    },
    {
     "cell_type": "code",
     "collapsed": false,
     "input": [
      "#Import tasks\n",
      "from lsst.pipe.tasks.calibrate import CalibrateTask\n",
      "from lsst.meas.base import SingleFrameMeasurementTask\n",
      "from lsst.meas.algorithms import SourceDetectionTask\n",
      "\n",
      "#Set up the initial schema (description of the output catalog)\n",
      "schema = afwTable.SourceTable.makeMinimalSchema()\n",
      "\n",
      "#The only task we need to configure is the calibration task.\n",
      "#Specifically we don't have a reference catalog so don't do\n",
      "#photometric and astrometric calibration\n",
      "config = CalibrateTask.ConfigClass()\n",
      "config.doPhotoCal = False\n",
      "config.doAstrometry = False\n",
      "calibrateTask = CalibrateTask(config=config)\n",
      "\n",
      "#Instantiate the detection task.\n",
      "detectionTask = SourceDetectionTask(schema=schema)\n",
      "\n",
      "#Instantiate the measurement task.\n",
      "measurementTask = SingleFrameMeasurementTask(schema=schema)"
     ],
     "language": "python",
     "metadata": {},
     "outputs": [],
     "prompt_number": 71
    },
    {
     "cell_type": "markdown",
     "metadata": {},
     "source": [
      "<font color ='blue'> How do i understand what tasks it will do </font>"
     ]
    },
    {
     "cell_type": "code",
     "collapsed": false,
     "input": [
      "config"
     ],
     "language": "python",
     "metadata": {},
     "outputs": [
      {
       "metadata": {},
       "output_type": "pyout",
       "prompt_number": 72,
       "text": [
        "lsst.pipe.tasks.calibrate.CalibrateConfig(initialPsf={'fwhm': 1.0, 'model': 'SingleGaussian', 'pixelScale': 0.25, 'size': 15}, repair={'doInterpolate': True, 'doCosmicRay': True, 'cosmicray': {'keepCRs': False, 'cond3_fac2': 0.6, 'cond3_fac': 2.5, 'nCrPixelMax': 10000, 'niteration': 3, 'minSigma': 6.0, 'min_DN': 150.0}}, doPsf=True, astrometry={'rejectIter': 3, 'forceKnownWcs': False, 'rejectThresh': 3.0, 'solver': {'cleaningParameter': 3.0, 'pixelScaleUncertainty': 1.1, 'catalogMatchDist': 1.0, 'useWcsParity': True, 'sipOrder': 4, 'useWcsRaDecCenter': True, 'matchThreshold': 27.631021115928547, 'useWcsPixelScale': True, 'maxStars': 50, 'badFlags': [], 'allFluxes': True, 'calculateSip': True, 'maxCpuTime': 0.0, 'filterMap': {}, 'raDecSearchRadius': 1.0}}, doBackground=True, detection={'reEstimateBackground': True, 'nSigmaToGrow': 2.4, 'minPixels': 1, 'includeThresholdMultiplier': 10.0, 'isotropicGrow': False, 'adjustBackground': 0.0, 'thresholdType': 'stdev', 'background': {'ignoredPixelMask': ['EDGE', 'DETECTED', 'DETECTED_NEGATIVE'], 'undersampleStyle': 'REDUCE_INTERP_ORDER', 'algorithm': 'NATURAL_SPLINE', 'binSize': 256, 'isNanSafe': False, 'statisticsProperty': 'MEANCLIP'}, 'returnOriginalFootprints': True, 'thresholdPolarity': 'positive', 'thresholdValue': 5.0}, doPhotoCal=False, initialMeasurement={'noiseReplacer': {'noiseSeedMultiplier': 1, 'noiseOffset': 0.0, 'noiseSource': 'measure'}, 'slots': {'psfFlux': 'base_PsfFlux', 'apFlux': 'base_CircularApertureFlux_0', 'instFlux': 'base_GaussianFlux', 'shape': 'base_SdssShape', 'centroid': 'base_SdssCentroid', 'modelFlux': 'base_GaussianFlux'}, 'doReplaceWithNoise': True, 'plugins': {'values': {'base_CircularApertureFlux': {'doMeasure': True, 'shiftKernel': 'lanczos5', 'radii': [3.0, 4.5, 6.0, 9.0, 12.0, 17.0, 25.0, 35.0, 50.0, 70.0], 'maxSincRadius': 10.0}, 'base_NaiveCentroid': {'doMeasure': True, 'background': 0.0}, 'base_PixelFlags': {'doMeasure': True}, 'base_SkyCoord': {'doMeasure': True}, 'base_PsfFlux': {'doMeasure': True, 'badMaskPlanes': []}, 'base_GaussianCentroid': {'doMeasure': True}, 'base_PeakLikelihoodFlux': {'doMeasure': True, 'warpingKernelName': 'lanczos4'}, 'base_SdssCentroid': {'doMeasure': True, 'peakMin': -1.0, 'binmax': 16, 'wfac': 1.5}, 'base_SdssShape': {'maxShift': 0.0, 'tol2': 9.999999747378752e-05, 'tol1': 9.999999747378752e-06, 'doMeasure': True, 'background': 0.0, 'maxIter': 100}, 'base_GaussianFlux': {'doMeasure': True, 'background': 0.0}, 'base_PeakCentroid': {'doMeasure': True}, 'base_ClassificationExtendedness': {'doMeasure': True, 'psfErrFactor': 0.0, 'modelErrFactor': 0.0, 'fluxRatio': 0.925}}, 'names': ['base_CircularApertureFlux', 'base_NaiveCentroid', 'base_PixelFlags', 'base_SkyCoord', 'base_PsfFlux', 'base_GaussianCentroid', 'base_SdssCentroid', 'base_GaussianFlux', 'base_SdssShape', 'base_ClassificationExtendedness']}}, measurePsf={'psfDeterminer': {'values': {'pca': {'kernelSizeMax': 45, 'lam': 0.05, 'reducedChi2ForPsfCandidates': 2.0, 'nonLinearSpatialFit': False, 'spatialOrder': 2, 'doMaskBlends': True, 'sizeCellX': 256, 'sizeCellY': 256, 'spatialReject': 3.0, 'kernelSize': 10.0, 'constantWeight': True, 'nIterForPsf': 3, 'doRejectBlends': False, 'borderWidth': 0, 'nEigenComponents': 4, 'pixelThreshold': 0.0, 'nStarPerCellSpatialFit': 5, 'tolerance': 0.01, 'kernelSizeMin': 25, 'nStarPerCell': 3}}, 'name': 'pca'}, 'starSelector': {'values': {'objectSize': {'widthMax': 10.0, 'widthMin': 0.0, 'kernelSize': 21, 'fluxMin': 12500.0, 'borderWidth': 0, 'badFlags': ['base_PixelFlags_flag_edge', 'base_PixelFlags_flag_interpolatedCenter', 'base_PixelFlags_flag_saturatedCenter', 'base_PixelFlags_flag_crCenter'], 'fluxMax': 0.0, 'sourceFluxField': 'base_GaussianFlux_flux'}, 'catalog': {'fluxLim': 0.0, 'borderWidth': 0, 'fluxMax': 0.0, 'kernelSize': 21, 'badStarPixelFlags': ['base_PixelFlags_flag_edge', 'base_PixelFlags_flag_interpolatedCenter', 'base_PixelFlags_flag_saturatedCenter', 'base_PixelFlags_flag_edge', 'base_PixelFlags_flag_interpolatedCenter', 'base_PixelFlags_flag_saturatedCenter']}, 'secondMoment': {'kernelSize': 21, 'histMomentMinMultiplier': 2.0, 'histSize': 64, 'histMomentClip': 5.0, 'borderWidth': 0, 'badFlags': ['base_PixelFlags_flag_edge', 'base_PixelFlags_flag_interpolatedCenter', 'base_PixelFlags_flag_saturatedCenter', 'base_PixelFlags_flag_crCenter'], 'histMomentMaxMultiplier': 5.0, 'fluxMax': 0.0, 'clumpNSigma': 2.0, 'fluxLim': 12500.0, 'histMomentMax': 100.0}, 'sizeMagnitude': {'startn1': 0.1, 'starsperbin': 30, 'fitorder': 1, 'minmag': 0.0, 'starfrac': 0.5, 'maxmag': 1e+100, 'logsize': False, 'minsize': 0.0, 'aperture': 5.0, 'maxsize': 1e+100, 'fitsigclip': 4.0, 'purityratio': 0.05}}, 'name': 'secondMoment'}}, background={'ignoredPixelMask': ['EDGE', 'DETECTED', 'DETECTED_NEGATIVE'], 'undersampleStyle': 'REDUCE_INTERP_ORDER', 'algorithm': 'NATURAL_SPLINE', 'binSize': 1024, 'isNanSafe': False, 'statisticsProperty': 'MEANCLIP'}, measurement={'noiseReplacer': {'noiseSeedMultiplier': 1, 'noiseOffset': 0.0, 'noiseSource': 'measure'}, 'slots': {'psfFlux': 'base_PsfFlux', 'apFlux': 'base_CircularApertureFlux_0', 'instFlux': 'base_GaussianFlux', 'shape': 'base_SdssShape', 'centroid': 'base_SdssCentroid', 'modelFlux': 'base_GaussianFlux'}, 'doReplaceWithNoise': True, 'plugins': {'values': {'base_CircularApertureFlux': {'doMeasure': True, 'shiftKernel': 'lanczos5', 'radii': [3.0, 4.5, 6.0, 9.0, 12.0, 17.0, 25.0, 35.0, 50.0, 70.0], 'maxSincRadius': 10.0}, 'base_NaiveCentroid': {'doMeasure': True, 'background': 0.0}, 'base_PixelFlags': {'doMeasure': True}, 'base_SkyCoord': {'doMeasure': True}, 'base_PsfFlux': {'doMeasure': True, 'badMaskPlanes': []}, 'base_GaussianCentroid': {'doMeasure': True}, 'base_PeakLikelihoodFlux': {'doMeasure': True, 'warpingKernelName': 'lanczos4'}, 'base_SdssCentroid': {'doMeasure': True, 'peakMin': -1.0, 'binmax': 16, 'wfac': 1.5}, 'base_SdssShape': {'maxShift': 0.0, 'tol2': 9.999999747378752e-05, 'tol1': 9.999999747378752e-06, 'doMeasure': True, 'background': 0.0, 'maxIter': 100}, 'base_GaussianFlux': {'doMeasure': True, 'background': 0.0}, 'base_PeakCentroid': {'doMeasure': True}, 'base_ClassificationExtendedness': {'doMeasure': True, 'psfErrFactor': 0.0, 'modelErrFactor': 0.0, 'fluxRatio': 0.925}}, 'names': ['base_CircularApertureFlux', 'base_NaiveCentroid', 'base_PixelFlags', 'base_SkyCoord', 'base_PsfFlux', 'base_GaussianCentroid', 'base_SdssCentroid', 'base_GaussianFlux', 'base_SdssShape', 'base_ClassificationExtendedness']}}, photocal={'nIter': 20, 'fluxField': 'base_PsfFlux_flux', 'magLimit': 22.0, 'sigmaMax': 0.25, 'nSigma': 3.0, 'goodFlags': [], 'applyColorTerms': True, 'badFlags': ['base_PixelFlags_flag_edge', 'base_PixelFlags_flag_interpolated', 'base_PixelFlags_flag_saturated'], 'useMedian': True, 'doWriteOutput': True}, doAstrometry=False)"
       ]
      }
     ],
     "prompt_number": 72
    },
    {
     "cell_type": "markdown",
     "metadata": {},
     "source": [
      "Run the calibration task.  This does things like background subraction and PSF estimation."
     ]
    },
    {
     "cell_type": "code",
     "collapsed": false,
     "input": [
      "calResult = calibrateTask.run(exp)\n",
      "calExp = calResult.exposure"
     ],
     "language": "python",
     "metadata": {},
     "outputs": [],
     "prompt_number": 73
    },
    {
     "cell_type": "markdown",
     "metadata": {},
     "source": [
      "We can take a look at the psf by converting to an image."
     ]
    },
    {
     "cell_type": "code",
     "collapsed": false,
     "input": [
      "psf = calResult.psf\n",
      "psfIm = psf.computeImage()\n",
      "ds9.mtv(psfIm, frame=frame, title=\"Psf Image\", settings=ds9_settings); frame += 1"
     ],
     "language": "python",
     "metadata": {},
     "outputs": [],
     "prompt_number": 74
    },
    {
     "cell_type": "markdown",
     "metadata": {},
     "source": [
      "Now we need to create a table to hold the detections.  This table should use the same schema used to construct the tasks."
     ]
    },
    {
     "cell_type": "code",
     "collapsed": false,
     "input": [
      "table = afwTable.SourceTable.make(schema)\n",
      "detections = detectionTask.run(table, calExp)\n",
      "sources = detections.sources"
     ],
     "language": "python",
     "metadata": {},
     "outputs": [],
     "prompt_number": 75
    },
    {
     "cell_type": "markdown",
     "metadata": {},
     "source": [
      "The sources created above contain the fields for measurement to fill, so we pass them in to the measurementTask."
     ]
    },
    {
     "cell_type": "code",
     "collapsed": false,
     "input": [
      "measurementTask.run(calExp, sources)"
     ],
     "language": "python",
     "metadata": {},
     "outputs": [],
     "prompt_number": 76
    },
    {
     "cell_type": "markdown",
     "metadata": {},
     "source": [
      "Finally, we can look at some of the measurements."
     ]
    },
    {
     "cell_type": "code",
     "collapsed": false,
     "input": [
      "ap = sources.getApFlux()\n",
      "apErr = sources.getApFluxErr()\n",
      "psf = sources.getPsfFlux()\n",
      "psfErr = sources.getPsfFluxErr()\n",
      "\n",
      "from matplotlib import pylab as plt\n",
      "plt.errorbar(ap, psf, xerr=apErr, yerr=psfErr, fmt='o', alpha=0.5)\n",
      "plt.xscale('log')\n",
      "plt.yscale('log')\n",
      "plt.xlim(1000000, 10)\n",
      "plt.ylim(1000000, 10)\n",
      "plt.xlabel(\"Aperture Flux\")\n",
      "plt.ylabel(\"PSF Flux\")"
     ],
     "language": "python",
     "metadata": {},
     "outputs": [
      {
       "metadata": {},
       "output_type": "pyout",
       "prompt_number": 77,
       "text": [
        "<matplotlib.text.Text at 0x12ab0b610>"
       ]
      },
      {
       "metadata": {},
       "output_type": "display_data",
       "png": "[encoded data removed]",
       "text": [
        "<matplotlib.figure.Figure at 0x10f7b4310>"
       ]
      }
     ],
     "prompt_number": 77
    },
    {
     "cell_type": "code",
     "collapsed": false,
     "input": [
      "ds9.mtv(calExp.getMaskedImage(), frame=frame)\n",
      "with ds9.Buffering():\n",
      "    for source in sources:\n",
      "        ds9.dot(\"+\", *source.getCentroid(), frame=frame)\n",
      "frame += 1"
     ],
     "language": "python",
     "metadata": {},
     "outputs": [],
     "prompt_number": 16
    },
    {
     "cell_type": "heading",
     "level": 2,
     "metadata": {},
     "source": [
      "A brief diversion into CameraGeom..."
     ]
    },
    {
     "cell_type": "code",
     "collapsed": false,
     "input": [
      "import lsst.obs.lsstSim as obs_lsstSim\n",
      "import lsst.afw.cameraGeom as cameraGeom\n",
      "import lsst.afw.cameraGeom.utils as cameraGeomUtils\n",
      "\n",
      "mapper = obs_lsstSim.LsstSimMapper()\n",
      "camera = mapper.camera"
     ],
     "language": "python",
     "metadata": {},
     "outputs": [],
     "prompt_number": 17
    },
    {
     "cell_type": "code",
     "collapsed": false,
     "input": [
      "for detector in camera:\n",
      "    print detector.getName()\n",
      "    \n",
      "print camera['R:2,2 S:1,1'].getCorners(cameraGeom.FOCAL_PLANE)"
     ],
     "language": "python",
     "metadata": {},
     "outputs": [
      {
       "output_type": "stream",
       "stream": "stdout",
       "text": [
        "R:4,1 S:0,0\n",
        "R:4,1 S:0,1\n",
        "R:4,1 S:0,2\n",
        "R:0,0 S:1,2\n",
        "R:4,1 S:1,0\n",
        "R:4,1 S:1,1\n",
        "R:4,1 S:1,2\n",
        "R:0,0 S:2,1\n",
        "R:4,1 S:2,0\n",
        "R:4,1 S:2,1\n",
        "R:4,1 S:2,2\n",
        "R:3,1 S:0,0\n",
        "R:3,1 S:0,1\n",
        "R:3,1 S:0,2\n",
        "R:3,1 S:1,0\n",
        "R:3,1 S:1,1\n",
        "R:3,1 S:1,2\n",
        "R:3,4 S:2,0\n",
        "R:4,0 S:0,2,A\n",
        "R:3,1 S:2,0\n",
        "R:3,1 S:2,1\n",
        "R:3,1 S:2,2\n",
        "R:2,1 S:0,0\n",
        "R:2,1 S:0,1\n",
        "R:0,0 S:2,2,B\n",
        "R:2,1 S:1,0\n",
        "R:2,1 S:1,1\n",
        "R:2,1 S:1,2\n",
        "R:2,1 S:2,0\n",
        "R:2,1 S:2,1\n",
        "R:2,1 S:2,2\n",
        "R:1,1 S:0,0\n",
        "R:1,1 S:0,1\n",
        "R:1,1 S:0,2\n",
        "R:1,1 S:1,0\n",
        "R:1,1 S:1,1\n",
        "R:1,1 S:1,2\n",
        "R:1,1 S:2,0\n",
        "R:1,1 S:2,1\n",
        "R:1,1 S:2,2\n",
        "R:0,1 S:0,0\n",
        "R:0,1 S:0,1\n",
        "R:0,1 S:0,2\n",
        "R:4,2 S:0,0\n",
        "R:4,2 S:0,1\n",
        "R:4,2 S:0,2\n",
        "R:0,1 S:1,0\n",
        "R:0,1 S:1,1\n",
        "R:0,1 S:1,2\n",
        "R:4,2 S:1,0\n",
        "R:4,2 S:1,1\n",
        "R:4,2 S:1,2\n",
        "R:0,1 S:2,0\n",
        "R:0,1 S:2,1\n",
        "R:0,1 S:2,2\n",
        "R:4,2 S:2,0\n",
        "R:4,2 S:2,1\n",
        "R:4,2 S:2,2\n",
        "R:3,2 S:0,0\n",
        "R:3,2 S:0,1\n",
        "R:3,2 S:0,2\n",
        "R:3,2 S:1,0\n",
        "R:3,2 S:1,1\n",
        "R:3,2 S:1,2\n",
        "R:4,0 S:0,2,B\n",
        "R:3,2 S:2,0\n",
        "R:3,2 S:2,1\n",
        "R:3,2 S:2,2\n",
        "R:2,2 S:0,0\n",
        "R:2,2 S:0,1\n",
        "R:2,2 S:0,2\n",
        "R:2,2 S:1,0\n",
        "R:2,2 S:1,1\n",
        "R:2,2 S:1,2\n",
        "R:2,2 S:2,0\n",
        "R:2,2 S:2,1\n",
        "R:2,2 S:2,2\n",
        "R:1,2 S:0,0\n",
        "R:1,2 S:0,1\n",
        "R:1,2 S:0,2\n",
        "R:0,4 S:2,0,A\n",
        "R:1,2 S:1,0\n",
        "R:1,2 S:1,1\n",
        "R:1,2 S:1,2\n",
        "R:1,2 S:2,0\n",
        "R:1,2 S:2,1\n",
        "R:1,2 S:2,2\n",
        "R:0,2 S:0,0\n",
        "R:0,2 S:0,1\n",
        "R:0,2 S:0,2\n",
        "R:4,3 S:0,0\n",
        "R:4,3 S:0,1\n",
        "R:4,3 S:0,2\n",
        "R:0,2 S:1,0\n",
        "R:0,2 S:1,1\n",
        "R:0,2 S:1,2\n",
        "R:4,3 S:1,0\n",
        "R:4,3 S:1,1\n",
        "R:4,3 S:1,2\n",
        "R:0,2 S:2,0\n",
        "R:0,2 S:2,1\n",
        "R:0,2 S:2,2\n",
        "R:4,3 S:2,0\n",
        "R:4,3 S:2,1\n",
        "R:4,3 S:2,2\n",
        "R:3,3 S:0,0\n",
        "R:3,3 S:0,1\n",
        "R:3,3 S:0,2\n",
        "R:3,3 S:1,0\n",
        "R:3,3 S:1,1\n",
        "R:3,3 S:1,2\n",
        "R:3,3 S:2,0\n",
        "R:3,3 S:2,1\n",
        "R:3,3 S:2,2\n",
        "R:2,3 S:0,0\n",
        "R:2,3 S:0,1\n",
        "R:2,3 S:0,2\n",
        "R:2,3 S:1,0\n",
        "R:2,3 S:1,1\n",
        "R:2,3 S:1,2\n",
        "R:2,3 S:2,0\n",
        "R:2,3 S:2,1\n",
        "R:2,3 S:2,2\n",
        "R:1,3 S:0,0\n",
        "R:1,3 S:0,1\n",
        "R:1,3 S:0,2\n",
        "R:1,3 S:1,0\n",
        "R:1,3 S:1,1\n",
        "R:1,3 S:1,2\n",
        "R:0,0 S:2,2,A\n",
        "R:1,3 S:2,0\n",
        "R:1,3 S:2,1\n",
        "R:1,3 S:2,2\n",
        "R:0,3 S:0,0\n",
        "R:0,3 S:0,1\n",
        "R:0,3 S:0,2\n",
        "R:4,4 S:0,1\n",
        "R:0,3 S:1,0\n",
        "R:0,3 S:1,1\n",
        "R:0,3 S:1,2\n",
        "R:4,4 S:1,0\n",
        "R:0,3 S:2,0\n",
        "R:0,3 S:2,1\n",
        "R:0,3 S:2,2\n",
        "R:2,1 S:0,2\n",
        "R:3,4 S:0,0\n",
        "R:3,4 S:0,1\n",
        "R:3,4 S:0,2\n",
        "R:4,4 S:0,0,B\n",
        "R:3,4 S:1,0\n",
        "R:3,4 S:1,1\n",
        "R:3,4 S:1,2\n",
        "R:3,0 S:1,2\n",
        "R:3,4 S:2,1\n",
        "R:3,4 S:2,2\n",
        "R:2,4 S:0,0\n",
        "R:2,4 S:0,1\n",
        "R:2,4 S:0,2\n",
        "R:2,4 S:1,0\n",
        "R:2,4 S:1,1\n",
        "R:2,4 S:1,2\n",
        "R:2,4 S:2,0\n",
        "R:2,4 S:2,1\n",
        "R:2,4 S:2,2\n",
        "R:1,4 S:0,0\n",
        "R:1,4 S:0,1\n",
        "R:1,4 S:0,2\n",
        "R:4,4 S:0,0,A\n",
        "R:1,4 S:1,0\n",
        "R:1,4 S:1,1\n",
        "R:1,4 S:1,2\n",
        "R:1,4 S:2,0\n",
        "R:1,4 S:2,1\n",
        "R:1,4 S:2,2\n",
        "R:0,4 S:1,0\n",
        "R:4,0 S:0,1\n",
        "R:0,4 S:2,1\n",
        "R:4,0 S:1,2\n",
        "R:3,0 S:0,0\n",
        "R:3,0 S:0,1\n",
        "R:3,0 S:0,2\n",
        "R:3,0 S:1,0\n",
        "R:3,0 S:1,1\n",
        "R:0,4 S:2,0,B\n",
        "R:3,0 S:2,0\n",
        "R:3,0 S:2,1\n",
        "R:3,0 S:2,2\n",
        "R:2,0 S:0,0\n",
        "R:2,0 S:0,1\n",
        "R:2,0 S:0,2\n",
        "R:2,0 S:1,0\n",
        "R:2,0 S:1,1\n",
        "R:2,0 S:1,2\n",
        "R:2,0 S:2,0\n",
        "R:2,0 S:2,1\n",
        "R:2,0 S:2,2\n",
        "R:1,0 S:0,0\n",
        "R:1,0 S:0,1\n",
        "R:1,0 S:0,2\n",
        "R:1,0 S:1,0\n",
        "R:1,0 S:1,1\n",
        "R:1,0 S:1,2\n",
        "R:1,0 S:2,0\n",
        "R:1,0 S:2,1\n",
        "R:1,0 S:2,2\n",
        "(Point2D(20.00452, -20.33289), Point2D(20.00452, 20.38711), Point2D(-19.99548, 20.38711), Point2D(-19.99548, -20.33289))\n"
       ]
      }
     ],
     "prompt_number": 19
    },
    {
     "cell_type": "code",
     "collapsed": false,
     "input": [
      "cameraGeomUtils.plotFocalPlane(camera, 4., 4.)"
     ],
     "language": "python",
     "metadata": {},
     "outputs": []
    }
   ],
   "metadata": {}
  }
 ]
}